{
 "cells": [
  {
   "cell_type": "code",
   "execution_count": 6,
   "metadata": {},
   "outputs": [],
   "source": [
    "# Dependencies and Setup\n",
    "import pandas as pd"
   ]
  },
  {
   "cell_type": "code",
   "execution_count": 8,
   "metadata": {},
   "outputs": [
    {
     "name": "stdout",
     "output_type": "stream",
     "text": "name  coord/lat  coord/lon  main/temp  main/feels_like  \\\n0          Phoenix      33.45    -112.07     290.71           286.63   \n1   Tempe Junction      33.41    -111.94     290.71           286.63   \n2        Guadalupe      33.37    -111.96     290.70           286.62   \n3         Glendale      33.54    -112.19     290.71           286.63   \n4  Paradise Valley      33.53    -111.94     290.71           286.75   \n\n   main/temp_min  main/temp_max  main/pressure  main/humidity          dt  \\\n0         289.15         292.04           1016             21  1581110172   \n1         289.15         292.04           1017             21  1581110172   \n2         289.15         292.04           1017             21  1581110172   \n3         289.15         292.04           1016             21  1581110172   \n4         289.15         292.04           1017             20  1581110172   \n\n   wind/speed  wind/deg sys/country  rain  snow  clouds/all  weather/0/id  \\\n0        2.10     200.0          US   NaN   NaN           1           800   \n1        2.10       NaN          US   NaN   NaN           1           800   \n2        2.10       NaN          US   NaN   NaN           1           800   \n3        2.10     200.0          US   NaN   NaN           1           800   \n4        1.83     170.0          US   NaN   NaN           1           800   \n\n  weather/0/main weather/0/description weather/0/icon  \n0          Clear             clear sky            01d  \n1          Clear             clear sky            01d  \n2          Clear             clear sky            01d  \n3          Clear             clear sky            01d  \n4          Clear             clear sky            01d  \n"
    }
   ],
   "source": [
    "# Read in csv data\n",
    "df_phoenix = pd.read_csv(r'C:\\Users\\klsom\\Desktop\\Solar-Predictions\\data\\Weather\\phoenix.csv')\n",
    "\n",
    "# # Drop unnecessary columns\n",
    "df_phoenix = df_phoenix.drop('id', 1)\n",
    "\n",
    "\n",
    "# # Add the year column \n",
    "# df_2018.insert(2, 'Year', '2018', True)\n",
    "\n",
    "# # # Reorder columns\n",
    "# columns_2018 = ['Location','B19013_001E', 'Year']\n",
    "# df_2018 = df_2018[columns_2018]\n",
    "\n",
    "# # # Rename columns\n",
    "# df_2018.rename(columns = {'B19013_001E':'Household Income(Annual)'}, inplace = True)\n",
    "\n",
    "print(df_phoenix.head())"
   ]
  },
  {
   "cell_type": "code",
   "execution_count": null,
   "metadata": {},
   "outputs": [],
   "source": [
    "# dfs_to_merge = [df_2018, df_2017, df_2016, df_2015, df_2014, df_2013]\n",
    "# income_df = pd.concat(dfs_to_merge, sort=True)\n",
    "# print(income_df.head())"
   ]
  },
  {
   "cell_type": "code",
   "execution_count": null,
   "metadata": {},
   "outputs": [],
   "source": [
    "# income_df.to_csv(r'Income.csv')"
   ]
  }
 ],
 "metadata": {
  "file_extension": ".py",
  "kernelspec": {
   "display_name": "Python 3",
   "language": "python",
   "name": "python3"
  },
  "language_info": {
   "codemirror_mode": {
    "name": "ipython",
    "version": 3
   },
   "file_extension": ".py",
   "mimetype": "text/x-python",
   "name": "python",
   "nbconvert_exporter": "python",
   "pygments_lexer": "ipython3",
   "version": "3.7.3-final"
  },
  "mimetype": "text/x-python",
  "name": "python",
  "npconvert_exporter": "python",
  "pygments_lexer": "ipython3",
  "version": 3
 },
 "nbformat": 4,
 "nbformat_minor": 2
}