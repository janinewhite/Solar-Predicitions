{
 "cells": [
  {
   "cell_type": "code",
   "execution_count": 1,
   "metadata": {},
   "outputs": [],
   "source": [
    "# Dependencies and Setup\n",
    "import pandas as pd"
   ]
  },
  {
   "cell_type": "code",
   "execution_count": 10,
   "metadata": {},
   "outputs": [
    {
     "name": "stdout",
     "output_type": "stream",
     "text": "City State   Latitude  Longitude Temp(F)\n0  GRAND CANYON NATIONAL PARK AP    AZ -112.15472   35.94611    70.5\n1   ST JOHNS INDUSTRIAL AIR PARK    AZ -109.37917   34.51833      81\n2                            AJO    AZ -112.85990   32.36980      95\n3               CANYON DE CHELLY    AZ -109.53940   36.15330    81.5\n4                    FORT VALLEY    AZ -111.74280   35.26810    66.5\n"
    }
   ],
   "source": [
    "# Read in csv data\n",
    "df_weather = pd.read_csv(r'./Weather/weather.csv')\n",
    "\n",
    "# Drop unnecessary columns\n",
    "df_weather = df_weather.drop('meta/uid', 1)\n",
    "df_weather = df_weather.drop('meta/sids/0', 1)\n",
    "df_weather = df_weather.drop('meta/sids/1', 1)\n",
    "df_weather = df_weather.drop('meta/sids/2', 1)\n",
    "df_weather = df_weather.drop('meta/sids/3', 1)\n",
    "df_weather = df_weather.drop('meta/elev', 1)\n",
    "df_weather = df_weather.drop('meta/sids/4', 1)\n",
    "df_weather = df_weather.drop('meta/sids/5', 1)\n",
    "df_weather = df_weather.drop('meta/sids/6', 1)\n",
    "df_weather = df_weather.drop('meta/sids/7', 1)\n",
    "df_weather = df_weather.drop('meta/sids/8', 1)\n",
    "\n",
    "# Reorder columns\n",
    "columns_weather = ['meta/name', 'meta/state', 'meta/ll/0', 'meta/ll/1', 'data/0']\n",
    "df_weather = df_weather[columns_weather]\n",
    "\n",
    "# Rename columns\n",
    "df_weather.rename(columns = {'meta/name':'City',\n",
    "                             'meta/state' : 'State',\n",
    "                             'meta/ll/0' : 'Latitude',\n",
    "                             'meta/ll/1' : 'Longitude',\n",
    "                             'data/0' : 'Temp(F)'},\n",
    "                             inplace = True)\n",
    "\n",
    "print(df_weather.head())"
   ]
  },
  {
   "cell_type": "code",
   "execution_count": 12,
   "metadata": {},
   "outputs": [],
   "source": [
    "# Save to csv file\n",
    "df_weather.to_csv(r'Weather.csv')"
   ]
  }
 ],
 "metadata": {
  "file_extension": ".py",
  "kernelspec": {
   "display_name": "Python 3",
   "language": "python",
   "name": "python3"
  },
  "language_info": {
   "codemirror_mode": {
    "name": "ipython",
    "version": 3
   },
   "file_extension": ".py",
   "mimetype": "text/x-python",
   "name": "python",
   "nbconvert_exporter": "python",
   "pygments_lexer": "ipython3",
   "version": "3.7.3-final"
  },
  "mimetype": "text/x-python",
  "name": "python",
  "npconvert_exporter": "python",
  "pygments_lexer": "ipython3",
  "version": 3
 },
 "nbformat": 4,
 "nbformat_minor": 2
}