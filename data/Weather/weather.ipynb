{
 "cells": [
  {
   "cell_type": "code",
   "execution_count": 4,
   "metadata": {},
   "outputs": [],
   "source": [
    "# Dependencies and Setup\n",
    "import pandas as pd"
   ]
  },
  {
   "cell_type": "code",
   "execution_count": 8,
   "metadata": {},
   "outputs": [
    {
     "name": "stdout",
     "output_type": "stream",
     "text": "Location  Average Temp  Latitude  Longitude\n0          Phoenix        290.71     33.45    -112.07\n1   Tempe Junction        290.71     33.41    -111.94\n2        Guadalupe        290.70     33.37    -111.96\n3         Glendale        290.71     33.54    -112.19\n4  Paradise Valley        290.71     33.53    -111.94\n"
    }
   ],
   "source": [
    "# Read in csv data\n",
    "df_phoenix = pd.read_csv(r'C:\\Users\\klsom\\Desktop\\Solar-Predictions\\data\\Weather\\phoenix.csv')\n",
    "\n",
    "# Drop unnecessary columns\n",
    "df_phoenix = df_phoenix.drop('id', 1)\n",
    "df_phoenix = df_phoenix.drop('main/feels_like', 1)\n",
    "df_phoenix = df_phoenix.drop('main/temp_min', 1)\n",
    "df_phoenix = df_phoenix.drop('main/temp_max', 1)\n",
    "df_phoenix = df_phoenix.drop('main/pressure', 1)\n",
    "df_phoenix = df_phoenix.drop('main/humidity', 1)\n",
    "df_phoenix = df_phoenix.drop('wind/speed', 1)\n",
    "df_phoenix = df_phoenix.drop('wind/deg', 1)\n",
    "df_phoenix = df_phoenix.drop('sys/country', 1)\n",
    "df_phoenix = df_phoenix.drop('rain', 1)\n",
    "df_phoenix = df_phoenix.drop('snow', 1)\n",
    "df_phoenix = df_phoenix.drop('clouds/all', 1)\n",
    "df_phoenix = df_phoenix.drop('weather/0/id', 1)\n",
    "df_phoenix = df_phoenix.drop('weather/0/main', 1)\n",
    "df_phoenix = df_phoenix.drop('weather/0/description', 1)\n",
    "df_phoenix = df_phoenix.drop('weather/0/icon', 1)\n",
    "df_phoenix = df_phoenix.drop('dt', 1)\n",
    "\n",
    "# Reorder columns\n",
    "columns_phoenix = ['name','main/temp', 'coord/lat', 'coord/lon']\n",
    "df_phoenix = df_phoenix[columns_phoenix]\n",
    "\n",
    "# Rename columns\n",
    "df_phoenix.rename(columns = {'name':'Location',\n",
    "                             'main/temp' : 'Average Temp',\n",
    "                             'coord/lat' : 'Latitude',\n",
    "                             'coord/lon' : 'Longitude'},\n",
    "                             inplace = True)\n",
    "\n",
    "print(df_phoenix.head())"
   ]
  },
  {
   "cell_type": "code",
   "execution_count": null,
   "metadata": {},
   "outputs": [],
   "source": [
    "# dfs_to_merge = [df_2018, df_2017, df_2016, df_2015, df_2014, df_2013]\n",
    "# income_df = pd.concat(dfs_to_merge, sort=True)\n",
    "# print(income_df.head())"
   ]
  },
  {
   "cell_type": "code",
   "execution_count": null,
   "metadata": {},
   "outputs": [],
   "source": [
    "# income_df.to_csv(r'Income.csv')"
   ]
  }
 ],
 "metadata": {
  "file_extension": ".py",
  "kernelspec": {
   "display_name": "Python 3",
   "language": "python",
   "name": "python3"
  },
  "language_info": {
   "codemirror_mode": {
    "name": "ipython",
    "version": 3
   },
   "file_extension": ".py",
   "mimetype": "text/x-python",
   "name": "python",
   "nbconvert_exporter": "python",
   "pygments_lexer": "ipython3",
   "version": "3.7.3-final"
  },
  "mimetype": "text/x-python",
  "name": "python",
  "npconvert_exporter": "python",
  "pygments_lexer": "ipython3",
  "version": 3
 },
 "nbformat": 4,
 "nbformat_minor": 2
}