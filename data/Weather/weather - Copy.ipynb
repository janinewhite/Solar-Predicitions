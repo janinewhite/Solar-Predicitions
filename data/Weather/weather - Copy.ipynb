{
 "cells": [
  {
   "cell_type": "code",
   "execution_count": 2,
   "metadata": {},
   "outputs": [],
   "source": [
    "# Dependencies and Setup\n",
    "import pandas as pd"
   ]
  },
  {
   "cell_type": "code",
   "execution_count": 4,
   "metadata": {},
   "outputs": [
    {
     "name": "stdout",
     "output_type": "stream",
     "text": "Location  Average Temp(F)  Latitude  Longitude\n0          Phoenix            57.00     33.45    -112.07\n1   Tempe Junction            57.06     33.41    -111.94\n2        Guadalupe            57.06     33.37    -111.96\n3         Glendale            56.89     33.54    -112.19\n4  Paradise Valley            57.11     33.53    -111.94\n"
    }
   ],
   "source": [
    "# Read in csv data\n",
    "df_phoenix = pd.read_csv(r'C:\\Users\\klsom\\Desktop\\Solar-Predictions\\data\\Weather\\phoenix.csv')\n",
    "\n",
    "# Drop unnecessary columns\n",
    "df_phoenix = df_phoenix.drop('id', 1)\n",
    "df_phoenix = df_phoenix.drop('main/feels_like', 1)\n",
    "df_phoenix = df_phoenix.drop('main/temp_min', 1)\n",
    "df_phoenix = df_phoenix.drop('main/temp_max', 1)\n",
    "df_phoenix = df_phoenix.drop('main/pressure', 1)\n",
    "df_phoenix = df_phoenix.drop('main/humidity', 1)\n",
    "df_phoenix = df_phoenix.drop('wind/speed', 1)\n",
    "df_phoenix = df_phoenix.drop('wind/deg', 1)\n",
    "df_phoenix = df_phoenix.drop('sys/country', 1)\n",
    "df_phoenix = df_phoenix.drop('rain', 1)\n",
    "df_phoenix = df_phoenix.drop('snow', 1)\n",
    "df_phoenix = df_phoenix.drop('clouds/all', 1)\n",
    "df_phoenix = df_phoenix.drop('weather/0/id', 1)\n",
    "df_phoenix = df_phoenix.drop('weather/0/main', 1)\n",
    "df_phoenix = df_phoenix.drop('weather/0/description', 1)\n",
    "df_phoenix = df_phoenix.drop('weather/0/icon', 1)\n",
    "df_phoenix = df_phoenix.drop('dt', 1)\n",
    "\n",
    "# Reorder columns\n",
    "columns_phoenix = ['name','main/temp', 'coord/lat', 'coord/lon']\n",
    "df_phoenix = df_phoenix[columns_phoenix]\n",
    "\n",
    "# Rename columns\n",
    "df_phoenix.rename(columns = {'name':'Location',\n",
    "                             'main/temp' : 'Average Temp(F)',\n",
    "                             'coord/lat' : 'Latitude',\n",
    "                             'coord/lon' : 'Longitude'},\n",
    "                             inplace = True)\n",
    "\n",
    "print(df_phoenix.head())"
   ]
  },
  {
   "cell_type": "code",
   "execution_count": 5,
   "metadata": {},
   "outputs": [
    {
     "name": "stdout",
     "output_type": "stream",
     "text": "Location  Average Temp(F)  Latitude  Longitude\n0  Desert Royal Mobile Park            58.06     32.67    -114.62\n1                      Yuma            57.00     32.73    -114.62\n2             Los Algodones            54.88     32.70    -114.73\n3                  Somerton            56.77     32.60    -114.71\n4         Fortuna Foothills            57.76     32.66    -114.41\n"
    }
   ],
   "source": [
    "# Read in csv data\n",
    "df_yuma = pd.read_csv(r'C:\\Users\\klsom\\Desktop\\Solar-Predictions\\data\\Weather\\yuma.csv')\n",
    "\n",
    "# Drop unnecessary columns\n",
    "df_yuma = df_yuma.drop('id', 1)\n",
    "df_yuma = df_yuma.drop('main/feels_like', 1)\n",
    "df_yuma = df_yuma.drop('main/temp_min', 1)\n",
    "df_yuma = df_yuma.drop('main/temp_max', 1)\n",
    "df_yuma = df_yuma.drop('main/pressure', 1)\n",
    "df_yuma = df_yuma.drop('main/humidity', 1)\n",
    "df_yuma = df_yuma.drop('wind/speed', 1)\n",
    "df_yuma = df_yuma.drop('wind/deg', 1)\n",
    "df_yuma = df_yuma.drop('sys/country', 1)\n",
    "df_yuma = df_yuma.drop('rain', 1)\n",
    "df_yuma = df_yuma.drop('snow', 1)\n",
    "df_yuma = df_yuma.drop('clouds/all', 1)\n",
    "df_yuma = df_yuma.drop('weather/0/id', 1)\n",
    "df_yuma = df_yuma.drop('weather/0/main', 1)\n",
    "df_yuma = df_yuma.drop('weather/0/description', 1)\n",
    "df_yuma = df_yuma.drop('weather/0/icon', 1)\n",
    "df_yuma = df_yuma.drop('dt', 1)\n",
    "\n",
    "# Reorder columns\n",
    "columns_yuma = ['name','main/temp', 'coord/lat', 'coord/lon']\n",
    "df_yuma = df_yuma[columns_yuma]\n",
    "\n",
    "# Rename columns\n",
    "df_yuma.rename(columns = {'name':'Location',\n",
    "                             'main/temp' : 'Average Temp(F)',\n",
    "                             'coord/lat' : 'Latitude',\n",
    "                             'coord/lon' : 'Longitude'},\n",
    "                             inplace = True)\n",
    "\n",
    "print(df_yuma.head())"
   ]
  },
  {
   "cell_type": "code",
   "execution_count": null,
   "metadata": {},
   "outputs": [],
   "source": [
    "# Merge all dataframes\n",
    "dfs_to_merge = [df_phoenix, df_tucson, df_flagstaff, df_yuma]\n",
    "weather_df = pd.concat(dfs_to_merge, sort=True)\n",
    "print(weather_df.head())"
   ]
  },
  {
   "cell_type": "code",
   "execution_count": null,
   "metadata": {},
   "outputs": [],
   "source": [
    "# Save to csv file\n",
    "weather_df.to_csv(r'Weather.csv')"
   ]
  }
 ],
 "metadata": {
  "file_extension": ".py",
  "kernelspec": {
   "display_name": "Python 3",
   "language": "python",
   "name": "python3"
  },
  "language_info": {
   "codemirror_mode": {
    "name": "ipython",
    "version": 3
   },
   "file_extension": ".py",
   "mimetype": "text/x-python",
   "name": "python",
   "nbconvert_exporter": "python",
   "pygments_lexer": "ipython3",
   "version": "3.7.3-final"
  },
  "mimetype": "text/x-python",
  "name": "python",
  "npconvert_exporter": "python",
  "pygments_lexer": "ipython3",
  "version": 3
 },
 "nbformat": 4,
 "nbformat_minor": 2
}