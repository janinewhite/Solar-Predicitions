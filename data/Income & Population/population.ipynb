{
 "cells": [
  {
   "cell_type": "code",
   "execution_count": 1,
   "metadata": {},
   "outputs": [],
   "source": [
    "# Dependencies and Setup\n",
    "import pandas as pd\n",
    "import json\n",
    "from sqlalchemy import create_engine"
   ]
  },
  {
   "cell_type": "code",
   "execution_count": 2,
   "metadata": {},
   "outputs": [
    {
     "name": "stdout",
     "output_type": "stream",
     "text": [
      "0              Location Population  Year\n",
      "1  Apache Junction city      41739  2018\n",
      "2         Avondale city      85835  2018\n",
      "3           Benson city       4873  2018\n",
      "4           Bisbee city       5209  2018\n",
      "5          Buckeye city      74370  2018\n"
     ]
    }
   ],
   "source": [
    "# Read in json data\n",
    "df_2018 = pd.read_json (r'C:\\Users\\klsom\\Desktop\\Solar-Predictions\\data\\Income & Population\\Population\\2018.json')\n",
    "\n",
    "# Grab the first row for the header\n",
    "new_header_2018 = df_2018.iloc[0]\n",
    "# Take the data less the header row\n",
    "df_2018 = df_2018[1:]\n",
    "# Set the header row as the df header\n",
    "df_2018.columns = new_header_2018\n",
    "\n",
    "# Split up the Location column and retain only city name\n",
    "df_2018[['Location','Other']] = df_2018.GEONAME.str.split(\",\",expand=True) \n",
    "\n",
    "# Drop the state and place columns\n",
    "df_2018 = df_2018.drop('GEONAME', 1)\n",
    "df_2018 = df_2018.drop('state', 1)\n",
    "df_2018 = df_2018.drop('place', 1)\n",
    "df_2018 = df_2018.drop('Other', 1)\n",
    "\n",
    "# Add the year column \n",
    "df_2018.insert(2, 'Year', '2018', True)\n",
    "\n",
    "# Reorder columns\n",
    "columns_2018 = ['Location','POP', 'Year']\n",
    "df_2018 = df_2018[columns_2018]\n",
    "\n",
    "# Rename columns\n",
    "df_2018.rename(columns = {'POP':'Population'}, inplace = True)\n",
    "\n",
    "print(df_2018.head())"
   ]
  },
  {
   "cell_type": "code",
   "execution_count": 3,
   "metadata": {},
   "outputs": [
    {
     "name": "stdout",
     "output_type": "stream",
     "text": [
      "0               Location Population  Year\n",
      "1           Phoenix city    1626078  2017\n",
      "2              Pima town       2513  2017\n",
      "3  Pinetop-Lakeside town       4361  2017\n",
      "4          Prescott city      42731  2017\n",
      "5   Prescott Valley town      44466  2017\n"
     ]
    }
   ],
   "source": [
    "# Read in json data\n",
    "df_2017 = pd.read_json (r'C:\\Users\\klsom\\Desktop\\Solar-Predictions\\data\\Income & Population\\Population\\2017.json')\n",
    "\n",
    "# Grab the first row for the header\n",
    "new_header_2017 = df_2017.iloc[0]\n",
    "# Take the data less the header row\n",
    "df_2017 = df_2017[1:]\n",
    "# Set the header row as the df header\n",
    "df_2017.columns = new_header_2017\n",
    "\n",
    "# Split up the Location column and retain only city name\n",
    "df_2017[['Location','Other']] = df_2017.GEONAME.str.split(\",\",expand=True) \n",
    "\n",
    "# Drop the state and place columns\n",
    "df_2017 = df_2017.drop('GEONAME', 1)\n",
    "df_2017 = df_2017.drop('state', 1)\n",
    "df_2017 = df_2017.drop('place', 1)\n",
    "df_2017 = df_2017.drop('Other', 1)\n",
    "\n",
    "# Add the year column \n",
    "df_2017.insert(2, 'Year', '2017', True)\n",
    "\n",
    "# Reorder columns\n",
    "columns_2017 = ['Location','POP', 'Year']\n",
    "df_2017 = df_2017[columns_2017]\n",
    "\n",
    "# Rename columns\n",
    "df_2017.rename(columns = {'POP':'Population'}, inplace = True)\n",
    "\n",
    "print(df_2017.head())"
   ]
  },
  {
   "cell_type": "code",
   "execution_count": 4,
   "metadata": {},
   "outputs": [
    {
     "name": "stdout",
     "output_type": "stream",
     "text": [
      "0          Location Population  Year\n",
      "1   Camp Verde town      11238  2016\n",
      "2     Carefree town       3724  2016\n",
      "3  Casa Grande city      54534  2016\n",
      "4   Cave Creek town       5476  2016\n",
      "5     Chandler city     247477  2016\n"
     ]
    }
   ],
   "source": [
    "# Read in json data\n",
    "df_2016 = pd.read_json (r'C:\\Users\\klsom\\Desktop\\Solar-Predictions\\data\\Income & Population\\Population\\2016.json')\n",
    "\n",
    "# Grab the first row for the header\n",
    "new_header_2016 = df_2016.iloc[0]\n",
    "# Take the data less the header row\n",
    "df_2016 = df_2016[1:]\n",
    "# Set the header row as the df header\n",
    "df_2016.columns = new_header_2016\n",
    "\n",
    "# Split up the Location column and retain only city name\n",
    "df_2016[['Location','Other']] = df_2016.GEONAME.str.split(\",\",expand=True) \n",
    "\n",
    "# Drop the state and place columns\n",
    "df_2016 = df_2016.drop('GEONAME', 1)\n",
    "df_2016 = df_2016.drop('state', 1)\n",
    "df_2016 = df_2016.drop('place', 1)\n",
    "df_2016 = df_2016.drop('Other', 1)\n",
    "\n",
    "# Add the year column \n",
    "df_2016.insert(2, 'Year', '2016', True)\n",
    "\n",
    "# Reorder columns\n",
    "columns_2016 = ['Location','POP', 'Year']\n",
    "df_2016 = df_2016[columns_2016]\n",
    "\n",
    "# Rename columns\n",
    "df_2016.rename(columns = {'POP':'Population'}, inplace = True)\n",
    "\n",
    "print(df_2016.head())"
   ]
  },
  {
   "cell_type": "code",
   "execution_count": 5,
   "metadata": {},
   "outputs": [
    {
     "name": "stdout",
     "output_type": "stream",
     "text": [
      "0         Location Population  Year\n",
      "1   Sahuarita town      25707  2015\n",
      "2   St. Johns city       3483  2015\n",
      "3    San Luis city      31520  2015\n",
      "4  Scottsdale city     236839  2015\n",
      "5      Sedona city      10388  2015\n"
     ]
    }
   ],
   "source": [
    "# Read in json data\n",
    "df_2015 = pd.read_json (r'C:\\Users\\klsom\\Desktop\\Solar-Predictions\\data\\Income & Population\\Population\\2015.json')\n",
    "\n",
    "# Grab the first row for the header\n",
    "new_header_2015 = df_2015.iloc[0]\n",
    "# Take the data less the header row\n",
    "df_2015 = df_2015[1:]\n",
    "# Set the header row as the df header\n",
    "df_2015.columns = new_header_2015\n",
    "\n",
    "# Split up the Location column and retain only city name\n",
    "df_2015[['Location','Other', 'Other2', 'Other3', 'Other4']] = df_2015.GEONAME.str.split(\",\",expand=True) \n",
    "\n",
    "# Drop the state and place columns\n",
    "df_2015 = df_2015.drop('GEONAME', 1)\n",
    "df_2015 = df_2015.drop('state', 1)\n",
    "df_2015 = df_2015.drop('place', 1)\n",
    "df_2015 = df_2015.drop('Other', 1)\n",
    "df_2015 = df_2015.drop('Other2', 1)\n",
    "df_2015 = df_2015.drop('Other3', 1)\n",
    "df_2015 = df_2015.drop('Other4', 1)\n",
    "\n",
    "# Add the year column \n",
    "df_2015.insert(2, 'Year', '2015', True)\n",
    "\n",
    "# Reorder columns\n",
    "columns_2015 = ['Location','POP', 'Year']\n",
    "df_2015 = df_2015[columns_2015]\n",
    "\n",
    "# Rename columns\n",
    "df_2015.rename(columns = {'POP':'Population'}, inplace = True)\n",
    "\n",
    "print(df_2015.head())"
   ]
  },
  {
   "cell_type": "code",
   "execution_count": 6,
   "metadata": {},
   "outputs": [
    {
     "name": "stdout",
     "output_type": "stream",
     "text": [
      "0              Location Population  Year\n",
      "1  Apache Junction city      38131  2014\n",
      "2         Avondale city      79646  2014\n",
      "3           Benson city       4927  2014\n",
      "4           Bisbee city       5308  2014\n",
      "5          Buckeye town      59470  2014\n"
     ]
    }
   ],
   "source": [
    "# Read in json data\n",
    "df_2014 = pd.read_json (r'C:\\Users\\klsom\\Desktop\\Solar-Predictions\\data\\Income & Population\\Population\\2014.json')\n",
    "\n",
    "# Grab the first row for the header\n",
    "new_header_2014 = df_2014.iloc[0]\n",
    "# Take the data less the header row\n",
    "df_2014 = df_2014[1:]\n",
    "# Set the header row as the df header\n",
    "df_2014.columns = new_header_2014\n",
    "\n",
    "# Drop the irrelevant columns\n",
    "df_2014 = df_2014.drop('STNAME', 1)\n",
    "df_2014 = df_2014.drop('DATE_', 1)\n",
    "df_2014 = df_2014.drop('state', 1)\n",
    "df_2014 = df_2014.drop('place', 1)\n",
    "\n",
    "# Add the year column \n",
    "df_2014.insert(2, 'Year', '2014', True)\n",
    "\n",
    "# Rename columns\n",
    "df_2014.rename(columns = {'NAME':'Location'}, inplace = True)\n",
    "df_2014.rename(columns = {'POP':'Population'}, inplace = True)\n",
    "\n",
    "print(df_2014.head())"
   ]
  },
  {
   "cell_type": "code",
   "execution_count": 7,
   "metadata": {},
   "outputs": [
    {
     "name": "stdout",
     "output_type": "stream",
     "text": [
      "0              Location Population  Year\n",
      "1  Apache Junction city      37130  2013\n",
      "2         Avondale city      78822  2013\n",
      "3           Benson city       5005  2013\n",
      "4           Bisbee city       5360  2013\n",
      "5          Buckeye town      56683  2013\n"
     ]
    }
   ],
   "source": [
    "# Read in json data\n",
    "df_2013 = pd.read_json (r'C:\\Users\\klsom\\Desktop\\Solar-Predictions\\data\\Income & Population\\Population\\2013.json')\n",
    "\n",
    "# Grab the first row for the header\n",
    "new_header_2013 = df_2013.iloc[0]\n",
    "# Take the data less the header row\n",
    "df_2013 = df_2013[1:]\n",
    "# Set the header row as the df header\n",
    "df_2013.columns = new_header_2013\n",
    "\n",
    "# Drop the irrelevant columns\n",
    "df_2013 = df_2013.drop('STNAME', 1)\n",
    "df_2013 = df_2013.drop('CTYNAME', 1)\n",
    "df_2013 = df_2013.drop('DATE_', 1)\n",
    "df_2013 = df_2013.drop('state', 1)\n",
    "df_2013 = df_2013.drop('place', 1)\n",
    "\n",
    "# Add the year column \n",
    "df_2013.insert(2, 'Year', '2013', True)\n",
    "\n",
    "# Rename columns\n",
    "df_2013.rename(columns = {'NAME':'Location'}, inplace = True)\n",
    "df_2013.rename(columns = {'POP':'Population'}, inplace = True)\n",
    "\n",
    "print(df_2013.head())"
   ]
  },
  {
   "cell_type": "code",
   "execution_count": 8,
   "metadata": {},
   "outputs": [
    {
     "name": "stdout",
     "output_type": "stream",
     "text": [
      "0              Location Population  Year\n",
      "1  Apache Junction city      41739  2018\n",
      "2         Avondale city      85835  2018\n",
      "3           Benson city       4873  2018\n",
      "4           Bisbee city       5209  2018\n",
      "5          Buckeye city      74370  2018\n"
     ]
    }
   ],
   "source": [
    "dfs_to_merge = [df_2018, df_2017, df_2016, df_2015, df_2014, df_2013]\n",
    "population_df = pd.concat(dfs_to_merge, sort=True)\n",
    "print(population_df.head())"
   ]
  },
  {
   "cell_type": "code",
   "execution_count": 17,
   "metadata": {},
   "outputs": [],
   "source": [
    "population_df.to_csv(r'Population.csv')"
   ]
  }
 ],
 "metadata": {
  "file_extension": ".py",
  "kernelspec": {
   "display_name": "Python 3.7.3 64-bit ('base': conda)",
   "language": "python",
   "name": "python37364bitbasecondada9122073dff4835b3657704dcefca90"
  },
  "language_info": {
   "codemirror_mode": {
    "name": "ipython",
    "version": 3
   },
   "file_extension": ".py",
   "mimetype": "text/x-python",
   "name": "python",
   "nbconvert_exporter": "python",
   "pygments_lexer": "ipython3",
   "version": "3.7.3"
  },
  "mimetype": "text/x-python",
  "name": "python",
  "npconvert_exporter": "python",
  "pygments_lexer": "ipython3",
  "version": 3
 },
 "nbformat": 4,
 "nbformat_minor": 2
}