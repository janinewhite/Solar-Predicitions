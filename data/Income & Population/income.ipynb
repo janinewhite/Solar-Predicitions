{
 "cells": [
  {
   "cell_type": "code",
   "execution_count": 45,
   "metadata": {},
   "outputs": [],
   "source": [
    "# Dependencies and Setup\n",
    "import pandas as pd\n",
    "import json\n",
    "from sqlalchemy import create_engine"
   ]
  },
  {
   "cell_type": "code",
   "execution_count": 46,
   "metadata": {},
   "outputs": [
    {
     "name": "stdout",
     "output_type": "stream",
     "text": "0             Location Household Income(Annual)  Year\n1       Flagstaff city                    58808  2018\n2        Goodyear city                    89959  2018\n3        Surprise city                    70280  2018\n4        Glendale city                    54789  2018\n5      Scottsdale city                    88071  2018\n6            Yuma city                    47929  2018\n7          Peoria city                    72050  2018\n8        Avondale city                    63242  2018\n9         Phoenix city                    57957  2018\n10           Mesa city                    58247  2018\n11       Chandler city                    85527  2018\n12  San Tan Valley CDP                    70339  2018\n13         Tucson city                    43676  2018\n14    Casas Adobes CDP                    62927  2018\n15        Buckeye city                    68655  2018\n16          Tempe city                    60330  2018\n17        Gilbert town                    99866  2018\n"
    }
   ],
   "source": [
    "# Read in json data\n",
    "df_2018 = pd.read_json (r'C:\\Users\\klsom\\Desktop\\Solar-Predictions\\data\\Income & Population\\Income\\2018.json')\n",
    "\n",
    "# Grab the first row for the header\n",
    "new_header_2018 = df_2018.iloc[0]\n",
    "# Take the data less the header row\n",
    "df_2018 = df_2018[1:]\n",
    "# Set the header row as the df header\n",
    "df_2018.columns = new_header_2018\n",
    "\n",
    "# Split up the Name column and retain only city name\n",
    "df_2018[['Location','Other']] = df_2018.NAME.str.split(\",\",expand=True) \n",
    "\n",
    "# Drop the state and place columns\n",
    "df_2018 = df_2018.drop('GEO_ID', 1)\n",
    "df_2018 = df_2018.drop('B19013_001M', 1)\n",
    "df_2018 = df_2018.drop('NAME', 1)\n",
    "df_2018 = df_2018.drop('state', 1)\n",
    "df_2018 = df_2018.drop('place', 1)\n",
    "df_2018 = df_2018.drop('B19013_001EA', 1)\n",
    "df_2018 = df_2018.drop('B19013_001MA', 1)\n",
    "df_2018 = df_2018.drop('Other', 1)\n",
    "\n",
    "# Add the year column \n",
    "df_2018.insert(2, 'Year', '2018', True)\n",
    "\n",
    "# # Reorder columns\n",
    "columns_2018 = ['Location','B19013_001E', 'Year']\n",
    "df_2018 = df_2018[columns_2018]\n",
    "\n",
    "# # Rename columns\n",
    "df_2018.rename(columns = {'B19013_001E':'Household Income(Annual)'}, inplace = True)\n",
    "\n",
    "print(df_2018)"
   ]
  },
  {
   "cell_type": "code",
   "execution_count": 47,
   "metadata": {},
   "outputs": [
    {
     "name": "stdout",
     "output_type": "stream",
     "text": "0             Location Household Income(Annual)  Year\n1        Avondale city                    55468  2017\n2         Buckeye city                    74970  2017\n3     Casas Adobes CDP                    65029  2017\n4        Chandler city                    76860  2017\n5       Flagstaff city                    56059  2017\n6         Gilbert town                    84699  2017\n7        Glendale city                    53753  2017\n8        Goodyear city                    87481  2017\n9            Mesa city                    55014  2017\n10         Peoria city                    72142  2017\n11        Phoenix city                    56696  2017\n12  San Tan Valley CDP                    61599  2017\n13     Scottsdale city                    88407  2017\n14       Surprise city                    65898  2017\n15          Tempe city                    51986  2017\n16         Tucson city                    41613  2017\n17           Yuma city                    50195  2017\n"
    }
   ],
   "source": [
    "# Read in json data\n",
    "df_2017 = pd.read_json (r'C:\\Users\\klsom\\Desktop\\Solar-Predictions\\data\\Income & Population\\Income\\2017.json')\n",
    "\n",
    "# Grab the first row for the header\n",
    "new_header_2017 = df_2017.iloc[0]\n",
    "# Take the data less the header row\n",
    "df_2017 = df_2017[1:]\n",
    "# Set the header row as the df header\n",
    "df_2017.columns = new_header_2017\n",
    "\n",
    "# Split up the Name column and retain only city name\n",
    "df_2017[['Location','Other']] = df_2017.NAME.str.split(\",\",expand=True) \n",
    "\n",
    "# Drop the state and place columns\n",
    "df_2017 = df_2017.drop('GEO_ID', 1)\n",
    "df_2017 = df_2017.drop('B19013_001M', 1)\n",
    "df_2017 = df_2017.drop('NAME', 1)\n",
    "df_2017 = df_2017.drop('state', 1)\n",
    "df_2017 = df_2017.drop('place', 1)\n",
    "df_2017 = df_2017.drop('B19013_001EA', 1)\n",
    "df_2017 = df_2017.drop('B19013_001MA', 1)\n",
    "df_2017 = df_2017.drop('Other', 1)\n",
    "\n",
    "# Add the year column \n",
    "df_2017.insert(2, 'Year', '2017', True)\n",
    "\n",
    "# # Reorder columns\n",
    "columns_2017 = ['Location','B19013_001E', 'Year']\n",
    "df_2017 = df_2017[columns_2017]\n",
    "\n",
    "# # Rename columns\n",
    "df_2017.rename(columns = {'B19013_001E':'Household Income(Annual)'}, inplace = True)\n",
    "\n",
    "print(df_2017)"
   ]
  },
  {
   "cell_type": "code",
   "execution_count": 48,
   "metadata": {},
   "outputs": [
    {
     "name": "stdout",
     "output_type": "stream",
     "text": "0             Location Household Income(Annual)  Year\n1        Avondale city                    58404  2016\n2     Casas Adobes CDP                    63407  2016\n3        Chandler city                    75369  2016\n4       Flagstaff city                    59658  2016\n5         Gilbert town                    91576  2016\n6        Glendale city                    51022  2016\n7        Goodyear city                    73960  2016\n8            Mesa city                    52393  2016\n9          Peoria city                    68882  2016\n10        Phoenix city                    52062  2016\n11  San Tan Valley CDP                    58608  2016\n12     Scottsdale city                    81381  2016\n13       Surprise city                    60521  2016\n14          Tempe city                    56365  2016\n15         Tucson city                    40021  2016\n16           Yuma city                    42731  2016\n"
    }
   ],
   "source": [
    "# Read in json data\n",
    "df_2016 = pd.read_json (r'C:\\Users\\klsom\\Desktop\\Solar-Predictions\\data\\Income & Population\\Income\\2016.json')\n",
    "\n",
    "# Grab the first row for the header\n",
    "new_header_2016 = df_2016.iloc[0]\n",
    "# Take the data less the header row\n",
    "df_2016 = df_2016[1:]\n",
    "# Set the header row as the df header\n",
    "df_2016.columns = new_header_2016\n",
    "\n",
    "# Split up the Name column and retain only city name\n",
    "df_2016[['Location','Other']] = df_2016.NAME.str.split(\",\",expand=True) \n",
    "\n",
    "# # Drop the state and place columns\n",
    "df_2016 = df_2016.drop('NAME', 1)\n",
    "df_2016 = df_2016.drop('B19013_001M', 1)\n",
    "df_2016 = df_2016.drop('B19013_001EA', 1)\n",
    "df_2016 = df_2016.drop('B19013_001MA', 1)\n",
    "df_2016 = df_2016.drop('state', 1)\n",
    "df_2016 = df_2016.drop('place', 1)\n",
    "df_2016 = df_2016.drop('Other', 1)\n",
    "\n",
    "# Add the year column \n",
    "df_2016.insert(2, 'Year', '2016', True)\n",
    "\n",
    "# # Reorder columns\n",
    "columns_2016 = ['Location','B19013_001E', 'Year']\n",
    "df_2016 = df_2016[columns_2016]\n",
    "\n",
    "# # Rename columns\n",
    "df_2016.rename(columns = {'B19013_001E':'Household Income(Annual)'}, inplace = True)\n",
    "\n",
    "print(df_2016)"
   ]
  },
  {
   "cell_type": "code",
   "execution_count": 49,
   "metadata": {},
   "outputs": [
    {
     "name": "stdout",
     "output_type": "stream",
     "text": "0             Location Household Income(Annual)  Year\n1        Avondale city                    54686  2015\n2     Casas Adobes CDP                    54766  2015\n3        Chandler city                    75562  2015\n4       Flagstaff city                    51616  2015\n5         Gilbert town                    86045  2015\n6        Glendale city                    45812  2015\n7        Goodyear city                    73164  2015\n8            Mesa city                    49177  2015\n9          Peoria city                    66308  2015\n10        Phoenix city                    48452  2015\n11  San Tan Valley CDP                    61441  2015\n12     Scottsdale city                    75346  2015\n13       Surprise city                    65688  2015\n14          Tempe city                    51688  2015\n15         Tucson city                    38155  2015\n16           Yuma city                    43663  2015\n"
    }
   ],
   "source": [
    "# Read in json data\n",
    "df_2015 = pd.read_json (r'C:\\Users\\klsom\\Desktop\\Solar-Predictions\\data\\Income & Population\\Income\\2015.json')\n",
    "\n",
    "# Grab the first row for the header\n",
    "new_header_2015 = df_2015.iloc[0]\n",
    "# Take the data less the header row\n",
    "df_2015 = df_2015[1:]\n",
    "# Set the header row as the df header\n",
    "df_2015.columns = new_header_2015\n",
    "\n",
    "# Split up the Name column and retain only city name\n",
    "df_2015[['Location','Other']] = df_2015.NAME.str.split(\",\",expand=True) \n",
    "\n",
    "# Drop the state and place columns\n",
    "df_2015 = df_2015.drop('GEO_ID', 1)\n",
    "df_2015 = df_2015.drop('B19013_001M', 1)\n",
    "df_2015 = df_2015.drop('NAME', 1)\n",
    "df_2015 = df_2015.drop('state', 1)\n",
    "df_2015 = df_2015.drop('place', 1)\n",
    "df_2015 = df_2015.drop('B19013_001EA', 1)\n",
    "df_2015 = df_2015.drop('B19013_001MA', 1)\n",
    "df_2015 = df_2015.drop('Other', 1)\n",
    "\n",
    "# Add the year column \n",
    "df_2015.insert(2, 'Year', '2015', True)\n",
    "\n",
    "# # Reorder columns\n",
    "columns_2015 = ['Location','B19013_001E', 'Year']\n",
    "df_2015 = df_2015[columns_2015]\n",
    "\n",
    "# # Rename columns\n",
    "df_2015.rename(columns = {'B19013_001E':'Household Income(Annual)'}, inplace = True)\n",
    "\n",
    "print(df_2015)"
   ]
  },
  {
   "cell_type": "code",
   "execution_count": 50,
   "metadata": {},
   "outputs": [
    {
     "name": "stdout",
     "output_type": "stream",
     "text": "0             Location Household Income(Annual)  Year\n1        Avondale city                    55664  2014\n2     Casas Adobes CDP                    59882  2014\n3        Chandler city                    73062  2014\n4       Flagstaff city                    48407  2014\n5         Gilbert town                    84153  2014\n6        Glendale city                    46453  2014\n7        Goodyear city                    69883  2014\n8            Mesa city                    47675  2014\n9          Peoria city                    66371  2014\n10        Phoenix city                    47929  2014\n11  San Tan Valley CDP                    65590  2014\n12     Scottsdale city                    73387  2014\n13       Surprise city                    58923  2014\n14          Tempe city                    47118  2014\n15         Tucson city                    36541  2014\n16           Yuma city                    43322  2014\n"
    }
   ],
   "source": [
    "# Read in json data\n",
    "df_2014 = pd.read_json (r'C:\\Users\\klsom\\Desktop\\Solar-Predictions\\data\\Income & Population\\Income\\2014.json')\n",
    "\n",
    "# Grab the first row for the header\n",
    "new_header_2014 = df_2014.iloc[0]\n",
    "# Take the data less the header row\n",
    "df_2014 = df_2014[1:]\n",
    "# Set the header row as the df header\n",
    "df_2014.columns = new_header_2014\n",
    "\n",
    "# Split up the Name column and retain only city name\n",
    "df_2014[['Location','Other']] = df_2014.NAME.str.split(\",\",expand=True) \n",
    "\n",
    "# Drop the state and place columns\n",
    "df_2014 = df_2014.drop('GEO_ID', 1)\n",
    "df_2014 = df_2014.drop('B19013_001M', 1)\n",
    "df_2014 = df_2014.drop('NAME', 1)\n",
    "df_2014 = df_2014.drop('state', 1)\n",
    "df_2014 = df_2014.drop('place', 1)\n",
    "df_2014 = df_2014.drop('B19013_001EA', 1)\n",
    "df_2014 = df_2014.drop('B19013_001MA', 1)\n",
    "df_2014 = df_2014.drop('Other', 1)\n",
    "\n",
    "# Add the year column \n",
    "df_2014.insert(2, 'Year', '2014', True)\n",
    "\n",
    "# # Reorder columns\n",
    "columns_2014 = ['Location','B19013_001E', 'Year']\n",
    "df_2014 = df_2014[columns_2014]\n",
    "\n",
    "# # Rename columns\n",
    "df_2014.rename(columns = {'B19013_001E':'Household Income(Annual)'}, inplace = True)\n",
    "\n",
    "print(df_2014)"
   ]
  },
  {
   "cell_type": "code",
   "execution_count": 51,
   "metadata": {},
   "outputs": [
    {
     "name": "stdout",
     "output_type": "stream",
     "text": "0             Location Household Income(Annual)  Year\n1        Avondale city                    51206  2013\n2     Casas Adobes CDP                    53357  2013\n3        Chandler city                    71545  2013\n4       Flagstaff city                    52854  2013\n5         Gilbert town                    81589  2013\n6        Glendale city                    41037  2013\n7        Goodyear city                    72219  2013\n8            Mesa city                    47561  2013\n9          Peoria city                    59377  2013\n10        Phoenix city                    46601  2013\n11  San Tan Valley CDP                    57005  2013\n12     Scottsdale city                    69690  2013\n13       Surprise city                    55857  2013\n14          Tempe city                    48565  2013\n15         Tucson city                    35720  2013\n16           Yuma city                    44545  2013\n"
    }
   ],
   "source": [
    "# Read in json data\n",
    "df_2013 = pd.read_json (r'C:\\Users\\klsom\\Desktop\\Solar-Predictions\\data\\Income & Population\\Income\\2013.json')\n",
    "\n",
    "# Grab the first row for the header\n",
    "new_header_2013 = df_2013.iloc[0]\n",
    "# Take the data less the header row\n",
    "df_2013 = df_2013[1:]\n",
    "# Set the header row as the df header\n",
    "df_2013.columns = new_header_2013\n",
    "\n",
    "# Split up the Name column and retain only city name\n",
    "df_2013[['Location','Other']] = df_2013.NAME.str.split(\",\",expand=True) \n",
    "\n",
    "# Drop the state and place columns\n",
    "df_2013 = df_2013.drop('GEO_ID', 1)\n",
    "df_2013 = df_2013.drop('B19013_001M', 1)\n",
    "df_2013 = df_2013.drop('NAME', 1)\n",
    "df_2013 = df_2013.drop('state', 1)\n",
    "df_2013 = df_2013.drop('place', 1)\n",
    "df_2013 = df_2013.drop('B19013_001EA', 1)\n",
    "df_2013 = df_2013.drop('B19013_001MA', 1)\n",
    "df_2013 = df_2013.drop('Other', 1)\n",
    "\n",
    "# Add the year column \n",
    "df_2013.insert(2, 'Year', '2013', True)\n",
    "\n",
    "# # Reorder columns\n",
    "columns_2013 = ['Location','B19013_001E', 'Year']\n",
    "df_2013 = df_2013[columns_2013]\n",
    "\n",
    "# # Rename columns\n",
    "df_2013.rename(columns = {'B19013_001E':'Household Income(Annual)'}, inplace = True)\n",
    "\n",
    "print(df_2013)"
   ]
  },
  {
   "cell_type": "code",
   "execution_count": 54,
   "metadata": {},
   "outputs": [
    {
     "name": "stdout",
     "output_type": "stream",
     "text": "0 Household Income(Annual)         Location  Year\n1                    58808   Flagstaff city  2018\n2                    89959    Goodyear city  2018\n3                    70280    Surprise city  2018\n4                    54789    Glendale city  2018\n5                    88071  Scottsdale city  2018\n"
    }
   ],
   "source": [
    "dfs_to_merge = [df_2018, df_2017, df_2016, df_2015, df_2014, df_2013]\n",
    "income_df = pd.concat(dfs_to_merge, sort=True)\n",
    "print(income_df.head())"
   ]
  },
  {
   "cell_type": "code",
   "execution_count": 55,
   "metadata": {},
   "outputs": [],
   "source": [
    "income_df.to_csv(r'Income.csv')"
   ]
  }
 ],
 "metadata": {
  "file_extension": ".py",
  "kernelspec": {
   "display_name": "Python 3",
   "language": "python",
   "name": "python3"
  },
  "language_info": {
   "codemirror_mode": {
    "name": "ipython",
    "version": 3
   },
   "file_extension": ".py",
   "mimetype": "text/x-python",
   "name": "python",
   "nbconvert_exporter": "python",
   "pygments_lexer": "ipython3",
   "version": "3.7.4"
  },
  "mimetype": "text/x-python",
  "name": "python",
  "npconvert_exporter": "python",
  "pygments_lexer": "ipython3",
  "version": 3
 },
 "nbformat": 4,
 "nbformat_minor": 2
}