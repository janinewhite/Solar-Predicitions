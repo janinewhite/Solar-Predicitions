{
 "cells": [
  {
   "cell_type": "code",
   "execution_count": 64,
   "metadata": {},
   "outputs": [],
   "source": [
    "# Dependencies and Setup\n",
    "import pandas as pd\n",
    "import requests\n",
    "import json\n",
    "import pprint\n",
    "\n",
    "# Import API key\n",
    "# Not working\n",
    "# from config import api_key"
   ]
  },
  {
   "cell_type": "code",
   "execution_count": null,
   "metadata": {},
   "outputs": [],
   "source": [
    "# Not working\n",
    "# api_key = \"1a6c599c07403e8371db55c899f4c88e14574e7b\""
   ]
  },
  {
   "cell_type": "code",
   "execution_count": null,
   "metadata": {},
   "outputs": [],
   "source": [
    "# API calls to retrieve population data\n",
    "# pop2018 = requests.get('https://api.census.gov/data/2018/pep/population?get=GEONAME,POP&for=county:*&in=state:04&key=1a6c599c07403e8371db55c899f4c88e14574e7b').json()\n",
    "# pop2017 = requests.get('https://api.census.gov/data/2017/pep/population?get=GEONAME,POP&for=county:*&in=state:04&key=1a6c599c07403e8371db55c899f4c88e14574e7b').json()\n",
    "# pop2016 = requests.get('https://api.census.gov/data/2016/pep/population?get=GEONAME,POP&for=county:*&in=state:04&key=1a6c599c07403e8371db55c899f4c88e14574e7b').json()\n",
    "# pop2015 = requests.get('https://api.census.gov/data/2015/pep/population?get=GEONAME,POP&for=county:*&in=state:04&key=1a6c599c07403e8371db55c899f4c88e14574e7b').json()\n",
    "# pop2014 = requests.get('https://api.census.gov/data/2014/pep/cty?get=STNAME,POP,CTYNAME&for=county:*&in=state:04&DATE_=7&key=1a6c599c07403e8371db55c899f4c88e14574e7b').json()\n",
    "# pop2013 = requests.get('https://api.census.gov/data/2013/pep/cty?get=STNAME,POP,CTYNAME&for=county:*&in=state:04&DATE_=6&key=1a6c599c07403e8371db55c899f4c88e14574e7b').json()"
   ]
  },
  {
   "cell_type": "code",
   "execution_count": null,
   "metadata": {},
   "outputs": [],
   "source": [
    "print(pop2018)"
   ]
  },
  {
   "cell_type": "code",
   "execution_count": 69,
   "metadata": {},
   "outputs": [
    {
     "ename": "NameError",
     "evalue": "name 'GEONAME' is not defined",
     "output_type": "error",
     "traceback": [
      "\u001b[1;31m---------------------------------------------------------------------------\u001b[0m",
      "\u001b[1;31mNameError\u001b[0m                                 Traceback (most recent call last)",
      "\u001b[1;32m<ipython-input-69-3a943c91703e>\u001b[0m in \u001b[0;36m<module>\u001b[1;34m\u001b[0m\n\u001b[0;32m     14\u001b[0m \u001b[1;32mfor\u001b[0m \u001b[0minfo\u001b[0m \u001b[1;32min\u001b[0m \u001b[0murl\u001b[0m\u001b[1;33m:\u001b[0m\u001b[1;33m\u001b[0m\u001b[1;33m\u001b[0m\u001b[0m\n\u001b[0;32m     15\u001b[0m     \u001b[0mresponse\u001b[0m \u001b[1;33m=\u001b[0m \u001b[0mrequests\u001b[0m\u001b[1;33m.\u001b[0m\u001b[0mget\u001b[0m\u001b[1;33m(\u001b[0m\u001b[0murl\u001b[0m\u001b[1;33m)\u001b[0m\u001b[1;33m.\u001b[0m\u001b[0mjson\u001b[0m\u001b[1;33m(\u001b[0m\u001b[1;33m)\u001b[0m\u001b[1;33m\u001b[0m\u001b[1;33m\u001b[0m\u001b[0m\n\u001b[1;32m---> 16\u001b[1;33m     \u001b[0mname\u001b[0m\u001b[1;33m.\u001b[0m\u001b[0mappend\u001b[0m\u001b[1;33m(\u001b[0m\u001b[0mresponse\u001b[0m\u001b[1;33m[\u001b[0m\u001b[0mGEONAME\u001b[0m\u001b[1;33m]\u001b[0m\u001b[1;33m)\u001b[0m\u001b[1;33m\u001b[0m\u001b[1;33m\u001b[0m\u001b[0m\n\u001b[0m\u001b[0;32m     17\u001b[0m     \u001b[1;31m# pop.append(response[POP])\u001b[0m\u001b[1;33m\u001b[0m\u001b[1;33m\u001b[0m\u001b[1;33m\u001b[0m\u001b[0m\n\u001b[0;32m     18\u001b[0m     \u001b[1;31m# state.append(response[state])\u001b[0m\u001b[1;33m\u001b[0m\u001b[1;33m\u001b[0m\u001b[1;33m\u001b[0m\u001b[0m\n",
      "\u001b[1;31mNameError\u001b[0m: name 'GEONAME' is not defined"
     ]
    }
   ],
   "source": [
    "url = 'https://api.census.gov/data/2018/pep/population?get=GEONAME,POP&for=county:*&in=state:04&key=1a6c599c07403e8371db55c899f4c88e14574e7b'\n",
    "\n",
    "# url = 'https://api.census.gov/data/2018/pep/population?'\n",
    "\n",
    "# query_url = f'{url}get{geo_name},{population}'\n",
    "\n",
    "# variables = ['GEONAME', 'POP', 'state', 'county']\n",
    "\n",
    "name = []\n",
    "pop = []\n",
    "state = []\n",
    "county = []\n",
    "\n",
    "for info in url:\n",
    "    response = requests.get(url).json()\n",
    "    name.append(response[GEONAME])\n",
    "    # pop.append(response[POP])\n",
    "    # state.append(response[state])\n",
    "    # county.append(response[county])\n",
    "\n",
    "print(f'GeoName: {name}')\n",
    "# print(f'Population: {pop}')\n",
    "# print(f'State: {state}')\n",
    "# print(f'County: {county}')"
   ]
  },
  {
   "cell_type": "code",
   "execution_count": null,
   "metadata": {},
   "outputs": [],
   "source": [
    "# Convert to dataframes\n",
    "# pop2018df = pd.DataFrame(pop2018)\n",
    "# pop2017df = pd.DataFrame(pop2017)\n",
    "# pop2016df = pd.DataFrame(pop2016)\n",
    "# pop2015df = pd.DataFrame(pop2015)\n",
    "# pop2014df = pd.DataFrame(pop2014)\n",
    "# pop2013df = pd.DataFrame(pop2013)"
   ]
  },
  {
   "cell_type": "code",
   "execution_count": null,
   "metadata": {},
   "outputs": [],
   "source": [
    "pop2018df.insert(0, 'Year', '2018')\n",
    "print(pop2018df)"
   ]
  },
  {
   "cell_type": "code",
   "execution_count": null,
   "metadata": {},
   "outputs": [],
   "source": [
    "# Merge dataframes\n",
    "df_row = pd.concat([pop2018df, pop2017df])\n",
    "\n",
    "df_row"
   ]
  },
  {
   "cell_type": "code",
   "execution_count": null,
   "metadata": {},
   "outputs": [],
   "source": [
    "pop2000 = requests.get('https://api.census.gov/data/2000/pep/int_population?get=GEONAME,POP&for=county:*&in=state:04&DATE_=1&key=1a6c599c07403e8371db55c899f4c88e14574e7b').json()\n",
    "\n",
    "pprint.pprint(pop2000)"
   ]
  },
  {
   "cell_type": "code",
   "execution_count": null,
   "metadata": {},
   "outputs": [],
   "source": []
  },
  {
   "cell_type": "code",
   "execution_count": null,
   "metadata": {},
   "outputs": [],
   "source": [
    "income2018 = requests.get('https://api.census.gov/data/2018/acs/acs1?get=B19001_001E&for=county:*&in=state:04&key=1a6c599c07403e8371db55c899f4c88e14574e7b').json()\n",
    "\n",
    "pprint.pprint(income2018)"
   ]
  },
  {
   "cell_type": "code",
   "execution_count": null,
   "metadata": {},
   "outputs": [],
   "source": []
  },
  {
   "cell_type": "code",
   "execution_count": null,
   "metadata": {},
   "outputs": [],
   "source": [
    "# Create connection to database\n",
    "# connection_string = \"Kristen:<password>@localhost:5432/solar_predictions\"\n",
    "# engine = create_engine(f'postgresql://{connection_string}')"
   ]
  },
  {
   "cell_type": "code",
   "execution_count": null,
   "metadata": {},
   "outputs": [],
   "source": [
    "# Confirm tables\n",
    "# engine.table_names()"
   ]
  },
  {
   "cell_type": "code",
   "execution_count": null,
   "metadata": {},
   "outputs": [],
   "source": [
    "# Write dataframes into tables in database\n",
    "# df.to_sql(name='<db_table>', con=engine, if_exists='append', index=True)"
   ]
  },
  {
   "cell_type": "code",
   "execution_count": null,
   "metadata": {},
   "outputs": [],
   "source": []
  }
 ],
 "metadata": {
  "file_extension": ".py",
  "kernelspec": {
   "display_name": "Python 3.7.3 64-bit ('base': conda)",
   "language": "python",
   "name": "python37364bitbasecondada9122073dff4835b3657704dcefca90"
  },
  "language_info": {
   "codemirror_mode": {
    "name": "ipython",
    "version": 3
   },
   "file_extension": ".py",
   "mimetype": "text/x-python",
   "name": "python",
   "nbconvert_exporter": "python",
   "pygments_lexer": "ipython3",
   "version": "3.7.3-final"
  },
  "mimetype": "text/x-python",
  "name": "python",
  "npconvert_exporter": "python",
  "pygments_lexer": "ipython3",
  "version": 3
 },
 "nbformat": 4,
 "nbformat_minor": 2
}