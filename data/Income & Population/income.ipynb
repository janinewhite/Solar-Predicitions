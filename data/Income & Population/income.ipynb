{
 "cells": [
  {
   "cell_type": "code",
   "execution_count": null,
   "metadata": {},
   "outputs": [],
   "source": [
    "# Dependencies and Setup\n",
    "import pandas as pd\n",
    "import requests\n",
    "import json\n",
    "import pprint"
   ]
  },
  {
   "cell_type": "code",
   "execution_count": null,
   "metadata": {},
   "outputs": [],
   "source": [
    "for year in range(2013,2019):\n",
    "    url = \"\"\n",
    "    if year > 2014:\n",
    "        url = f\"https://api.census.gov/data/{year}/pep/population?get=GEONAME,POP&for=place:*&in=state:04&key=1a6c599c07403e8371db55c899f4c88e14574e7b\"\n",
    "    else:\n",
    "        url = f\"https://api.census.gov/data/{year}/pep/subcty?get=NAME,POP,STNAME&for=place:*&DATE_=7&in=state:04&key=1a6c599c07403e8371db55c899f4c88e14574e7b\"\n",
    "    print(url)\n",
    "    response = requests.get(url)\n",
    "    print(response)\n",
    "    json_data = response.json()\n",
    "    years = []\n",
    "    cities = []\n",
    "    population = []\n",
    "    records = 1\n",
    "    for info in json_data:\n",
    "        years.append(year)\n",
    "        cities.append(info[0])\n",
    "        population.append(info[1])\n",
    "        records += 1\n",
    "df = pd.DataFrame()\n",
    "df[\"years\"] = years\n",
    "df[\"cities\"] = cities\n",
    "df[\"population\"] = population\n",
    "print(df.head())\n",
    "df.to_csv(f\"Population.csv\")"
   ]
  },
  {
   "cell_type": "code",
   "execution_count": null,
   "metadata": {},
   "outputs": [],
   "source": []
  },
  {
   "cell_type": "code",
   "execution_count": null,
   "metadata": {},
   "outputs": [],
   "source": [
    "# Create connection to database\n",
    "# connection_string = \"Kristen:<password>@localhost:5432/solar_predictions\"\n",
    "# engine = create_engine(f'postgresql://{connection_string}')"
   ]
  },
  {
   "cell_type": "code",
   "execution_count": null,
   "metadata": {},
   "outputs": [],
   "source": [
    "# Confirm tables\n",
    "# engine.table_names()"
   ]
  },
  {
   "cell_type": "code",
   "execution_count": null,
   "metadata": {},
   "outputs": [],
   "source": [
    "# Write dataframes into tables in database\n",
    "# df.to_sql(name='<db_table>', con=engine, if_exists='append', index=True)"
   ]
  },
  {
   "cell_type": "code",
   "execution_count": null,
   "metadata": {},
   "outputs": [],
   "source": []
  }
 ],
 "metadata": {
  "file_extension": ".py",
  "kernelspec": {
   "display_name": "Python 3.7.3 64-bit ('base': conda)",
   "language": "python",
   "name": "python37364bitbasecondada9122073dff4835b3657704dcefca90"
  },
  "language_info": {
   "codemirror_mode": {
    "name": "ipython",
    "version": 3
   },
   "file_extension": ".py",
   "mimetype": "text/x-python",
   "name": "python",
   "nbconvert_exporter": "python",
   "pygments_lexer": "ipython3",
   "version": "3.7.3-final"
  },
  "mimetype": "text/x-python",
  "name": "python",
  "npconvert_exporter": "python",
  "pygments_lexer": "ipython3",
  "version": 3
 },
 "nbformat": 4,
 "nbformat_minor": 2
}