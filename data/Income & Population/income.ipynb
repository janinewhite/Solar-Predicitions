{
 "cells": [
  {
   "cell_type": "code",
   "execution_count": 57,
   "metadata": {},
   "outputs": [],
   "source": [
    "# Dependencies and Setup\n",
    "import pandas as pd\n",
    "import requests\n",
    "import json\n",
    "import pprint\n",
    "\n",
    "# Import API key\n",
    "# Not working\n",
    "# from config import api_key"
   ]
  },
  {
   "cell_type": "code",
   "execution_count": null,
   "metadata": {},
   "outputs": [],
   "source": [
    "# Not working\n",
    "# api_key = \"1a6c599c07403e8371db55c899f4c88e14574e7b\""
   ]
  },
  {
   "cell_type": "code",
   "execution_count": 62,
   "metadata": {},
   "outputs": [],
   "source": [
    "# API calls to retrieve population data\n",
    "pop2018 = requests.get('https://api.census.gov/data/2018/pep/population?get=GEONAME,POP&for=county:*&in=state:04&key=1a6c599c07403e8371db55c899f4c88e14574e7b').json()\n",
    "# pop2017 = requests.get('https://api.census.gov/data/2017/pep/population?get=GEONAME,POP&for=county:*&in=state:04&key=1a6c599c07403e8371db55c899f4c88e14574e7b').json()\n",
    "# pop2016 = requests.get('https://api.census.gov/data/2016/pep/population?get=GEONAME,POP&for=county:*&in=state:04&key=1a6c599c07403e8371db55c899f4c88e14574e7b').json()\n",
    "# pop2015 = requests.get('https://api.census.gov/data/2015/pep/population?get=GEONAME,POP&for=county:*&in=state:04&key=1a6c599c07403e8371db55c899f4c88e14574e7b').json()\n",
    "# pop2014 = requests.get('https://api.census.gov/data/2014/pep/cty?get=STNAME,POP,CTYNAME&for=county:*&in=state:04&DATE_=7&key=1a6c599c07403e8371db55c899f4c88e14574e7b').json()\n",
    "# pop2013 = requests.get('https://api.census.gov/data/2013/pep/cty?get=STNAME,POP,CTYNAME&for=county:*&in=state:04&DATE_=6&key=1a6c599c07403e8371db55c899f4c88e14574e7b').json()"
   ]
  },
  {
   "cell_type": "code",
   "execution_count": 63,
   "metadata": {},
   "outputs": [
    {
     "name": "stdout",
     "output_type": "stream",
     "text": "[['GEONAME', 'POP', 'state', 'county'], ['Apache County, Arizona', '71818', '04', '001'], ['Cochise County, Arizona', '126770', '04', '003'], ['Coconino County, Arizona', '142854', '04', '005'], ['Gila County, Arizona', '53889', '04', '007'], ['Graham County, Arizona', '38072', '04', '009'], ['Greenlee County, Arizona', '9483', '04', '011'], ['La Paz County, Arizona', '21098', '04', '012'], ['Maricopa County, Arizona', '4410824', '04', '013'], ['Mohave County, Arizona', '209550', '04', '015'], ['Navajo County, Arizona', '110445', '04', '017'], ['Pima County, Arizona', '1039073', '04', '019'], ['Pinal County, Arizona', '447138', '04', '021'], ['Santa Cruz County, Arizona', '46511', '04', '023'], ['Yavapai County, Arizona', '231993', '04', '025'], ['Yuma County, Arizona', '212128', '04', '027']]\n"
    }
   ],
   "source": [
    "print(pop2018)"
   ]
  },
  {
   "cell_type": "code",
   "execution_count": null,
   "metadata": {},
   "outputs": [],
   "source": [
    "url = 'https://api.census.gov/data/2018/pep/population?get=GEONAME,POP,DATE_CODE&for=county:*&in=state:04&key=1a6c599c07403e8371db55c899f4c88e14574e7b'\n",
    "\n",
    "variables = ['GEONAME', 'POP', 'DATE_CODE','state', 'county']\n",
    "\n",
    "name = []\n",
    "pop = []\n",
    "date = []\n",
    "state = []\n",
    "county = []\n",
    "\n",
    "for info in variables:\n",
    "    response = requests.get(url).json()\n",
    "    name.append(response['GEONAME'])\n",
    "    # pop.append(response['POP'])\n",
    "    # date.append(response['DATE_CODE'])\n",
    "    # state.append(response['state'])\n",
    "    # county.append(response['county'])\n",
    "\n",
    "print(f'GeoName: {name}')\n",
    "# print(f'Population: {pop}')\n",
    "# print(f'Year: {date}')\n",
    "# print(f'State: {state}')\n",
    "# print(f'County: {county}')\n",
    "\n",
    "# items = []\n",
    "# for item in db:\n",
    "#     items.append(item['supplier'])\n",
    "# print(items)"
   ]
  },
  {
   "cell_type": "code",
   "execution_count": null,
   "metadata": {},
   "outputs": [],
   "source": [
    "# Convert to dataframes\n",
    "# pop2018df = pd.DataFrame(pop2018)\n",
    "# pop2017df = pd.DataFrame(pop2017)\n",
    "# pop2016df = pd.DataFrame(pop2016)\n",
    "# pop2015df = pd.DataFrame(pop2015)\n",
    "# pop2014df = pd.DataFrame(pop2014)\n",
    "# pop2013df = pd.DataFrame(pop2013)"
   ]
  },
  {
   "cell_type": "code",
   "execution_count": null,
   "metadata": {},
   "outputs": [],
   "source": [
    "pop2018df.insert(0, 'Year', '2018')\n",
    "print(pop2018df)"
   ]
  },
  {
   "cell_type": "code",
   "execution_count": null,
   "metadata": {},
   "outputs": [],
   "source": [
    "# Merge dataframes\n",
    "df_row = pd.concat([pop2018df, pop2017df])\n",
    "\n",
    "df_row"
   ]
  },
  {
   "cell_type": "code",
   "execution_count": null,
   "metadata": {},
   "outputs": [],
   "source": [
    "pop2000 = requests.get('https://api.census.gov/data/2000/pep/int_population?get=GEONAME,POP&for=county:*&in=state:04&DATE_=1&key=1a6c599c07403e8371db55c899f4c88e14574e7b').json()\n",
    "\n",
    "pprint.pprint(pop2000)"
   ]
  },
  {
   "cell_type": "code",
   "execution_count": null,
   "metadata": {},
   "outputs": [],
   "source": []
  },
  {
   "cell_type": "code",
   "execution_count": null,
   "metadata": {},
   "outputs": [],
   "source": [
    "income2018 = requests.get('https://api.census.gov/data/2018/acs/acs1?get=B19001_001E&for=county:*&in=state:04&key=1a6c599c07403e8371db55c899f4c88e14574e7b').json()\n",
    "\n",
    "pprint.pprint(income2018)"
   ]
  },
  {
   "cell_type": "code",
   "execution_count": null,
   "metadata": {},
   "outputs": [],
   "source": []
  },
  {
   "cell_type": "code",
   "execution_count": null,
   "metadata": {},
   "outputs": [],
   "source": [
    "# Create connection to database\n",
    "# connection_string = \"Kristen:<password>@localhost:5432/solar_predictions\"\n",
    "# engine = create_engine(f'postgresql://{connection_string}')"
   ]
  },
  {
   "cell_type": "code",
   "execution_count": null,
   "metadata": {},
   "outputs": [],
   "source": [
    "# Confirm tables\n",
    "# engine.table_names()"
   ]
  },
  {
   "cell_type": "code",
   "execution_count": null,
   "metadata": {},
   "outputs": [],
   "source": [
    "# Write dataframes into tables in database\n",
    "# df.to_sql(name='<db_table>', con=engine, if_exists='append', index=True)"
   ]
  },
  {
   "cell_type": "code",
   "execution_count": null,
   "metadata": {},
   "outputs": [],
   "source": []
  }
 ],
 "metadata": {
  "file_extension": ".py",
  "kernelspec": {
   "display_name": "Python 3.7.3 64-bit ('base': conda)",
   "language": "python",
   "name": "python37364bitbasecondada9122073dff4835b3657704dcefca90"
  },
  "language_info": {
   "codemirror_mode": {
    "name": "ipython",
    "version": 3
   },
   "file_extension": ".py",
   "mimetype": "text/x-python",
   "name": "python",
   "nbconvert_exporter": "python",
   "pygments_lexer": "ipython3",
   "version": "3.7.3-final"
  },
  "mimetype": "text/x-python",
  "name": "python",
  "npconvert_exporter": "python",
  "pygments_lexer": "ipython3",
  "version": 3
 },
 "nbformat": 4,
 "nbformat_minor": 2
}