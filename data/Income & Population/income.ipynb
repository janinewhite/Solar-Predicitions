{
 "cells": [
  {
   "cell_type": "code",
   "execution_count": 1,
   "metadata": {},
   "outputs": [],
   "source": [
    "# Dependencies and Setup\n",
    "import pandas as pd\n",
    "import requests\n",
    "import json\n",
    "import pprint\n",
    "\n",
    "# Import API key\n",
    "# Not working??\n",
    "# from config import api_key"
   ]
  },
  {
   "cell_type": "code",
   "execution_count": null,
   "metadata": {},
   "outputs": [],
   "source": [
    "# Not working??\n",
    "# api_key = \"1a6c599c07403e8371db55c899f4c88e14574e7b\""
   ]
  },
  {
   "cell_type": "code",
   "execution_count": 2,
   "metadata": {},
   "outputs": [
    {
     "name": "stdout",
     "output_type": "stream",
     "text": [
      "[['GEONAME', 'POP', 'state', 'county'],\n",
      " ['Apache County, Arizona', '71818', '04', '001'],\n",
      " ['Cochise County, Arizona', '126770', '04', '003'],\n",
      " ['Coconino County, Arizona', '142854', '04', '005'],\n",
      " ['Gila County, Arizona', '53889', '04', '007'],\n",
      " ['Graham County, Arizona', '38072', '04', '009'],\n",
      " ['Greenlee County, Arizona', '9483', '04', '011'],\n",
      " ['La Paz County, Arizona', '21098', '04', '012'],\n",
      " ['Maricopa County, Arizona', '4410824', '04', '013'],\n",
      " ['Mohave County, Arizona', '209550', '04', '015'],\n",
      " ['Navajo County, Arizona', '110445', '04', '017'],\n",
      " ['Pima County, Arizona', '1039073', '04', '019'],\n",
      " ['Pinal County, Arizona', '447138', '04', '021'],\n",
      " ['Santa Cruz County, Arizona', '46511', '04', '023'],\n",
      " ['Yavapai County, Arizona', '231993', '04', '025'],\n",
      " ['Yuma County, Arizona', '212128', '04', '027']]\n"
     ]
    }
   ],
   "source": [
    "pop2018 = requests.get('https://api.census.gov/data/2018/pep/population?get=GEONAME,POP&for=county:*&in=state:04&key=1a6c599c07403e8371db55c899f4c88e14574e7b').json()\n",
    "\n",
    "pprint.pprint(pop2018)"
   ]
  },
  {
   "cell_type": "code",
   "execution_count": 3,
   "metadata": {},
   "outputs": [
    {
     "name": "stdout",
     "output_type": "stream",
     "text": [
      "[['GEONAME', 'POP', 'state', 'county'],\n",
      " ['Yavapai County, Arizona', '228168', '04', '025'],\n",
      " ['Yuma County, Arizona', '207534', '04', '027'],\n",
      " ['Apache County, Arizona', '71606', '04', '001'],\n",
      " ['Cochise County, Arizona', '124756', '04', '003'],\n",
      " ['Coconino County, Arizona', '140776', '04', '005'],\n",
      " ['Gila County, Arizona', '53501', '04', '007'],\n",
      " ['Graham County, Arizona', '37466', '04', '009'],\n",
      " ['Greenlee County, Arizona', '9455', '04', '011'],\n",
      " ['La Paz County, Arizona', '20601', '04', '012'],\n",
      " ['Maricopa County, Arizona', '4307033', '04', '013'],\n",
      " ['Mohave County, Arizona', '207200', '04', '015'],\n",
      " ['Navajo County, Arizona', '108956', '04', '017'],\n",
      " ['Pima County, Arizona', '1022769', '04', '019'],\n",
      " ['Pinal County, Arizona', '430237', '04', '021'],\n",
      " ['Santa Cruz County, Arizona', '46212', '04', '023']]\n"
     ]
    }
   ],
   "source": [
    "pop2017 = requests.get('https://api.census.gov/data/2017/pep/population?get=GEONAME,POP&for=county:*&in=state:04&key=1a6c599c07403e8371db55c899f4c88e14574e7b').json()\n",
    "\n",
    "pprint.pprint(pop2017)"
   ]
  },
  {
   "cell_type": "code",
   "execution_count": 4,
   "metadata": {},
   "outputs": [
    {
     "name": "stdout",
     "output_type": "stream",
     "text": [
      "[['GEONAME', 'POP', 'state', 'county'],\n",
      " ['Mohave County, Arizona', '205249', '04', '015'],\n",
      " ['Navajo County, Arizona', '110026', '04', '017'],\n",
      " ['Pima County, Arizona', '1016206', '04', '019'],\n",
      " ['Pinal County, Arizona', '418540', '04', '021'],\n",
      " ['Santa Cruz County, Arizona', '45985', '04', '023'],\n",
      " ['Yavapai County, Arizona', '225562', '04', '025'],\n",
      " ['Yuma County, Arizona', '205631', '04', '027'],\n",
      " ['Apache County, Arizona', '73112', '04', '001'],\n",
      " ['Cochise County, Arizona', '125770', '04', '003'],\n",
      " ['Coconino County, Arizona', '140908', '04', '005'],\n",
      " ['Gila County, Arizona', '53556', '04', '007'],\n",
      " ['Graham County, Arizona', '37599', '04', '009'],\n",
      " ['Greenlee County, Arizona', '9613', '04', '011'],\n",
      " ['La Paz County, Arizona', '20317', '04', '012'],\n",
      " ['Maricopa County, Arizona', '4242997', '04', '013']]\n"
     ]
    }
   ],
   "source": [
    "pop2016 = requests.get('https://api.census.gov/data/2016/pep/population?get=GEONAME,POP&for=county:*&in=state:04&key=1a6c599c07403e8371db55c899f4c88e14574e7b').json()\n",
    "\n",
    "pprint.pprint(pop2016)"
   ]
  },
  {
   "cell_type": "code",
   "execution_count": 11,
   "metadata": {},
   "outputs": [
    {
     "name": "stdout",
     "output_type": "stream",
     "text": [
      "[['GEONAME', 'POP', 'state', 'county'],\n",
      " ['Apache County, Arizona, Mountain, West, United States',\n",
      "  '71474',\n",
      "  '04',\n",
      "  '001'],\n",
      " ['Cochise County, Arizona, Mountain, West, United States',\n",
      "  '126427',\n",
      "  '04',\n",
      "  '003'],\n",
      " ['Coconino County, Arizona, Mountain, West, United States',\n",
      "  '139097',\n",
      "  '04',\n",
      "  '005'],\n",
      " ['Gila County, Arizona, Mountain, West, United States', '53159', '04', '007'],\n",
      " ['Graham County, Arizona, Mountain, West, United States',\n",
      "  '37666',\n",
      "  '04',\n",
      "  '009'],\n",
      " ['Greenlee County, Arizona, Mountain, West, United States',\n",
      "  '9529',\n",
      "  '04',\n",
      "  '011'],\n",
      " ['La Paz County, Arizona, Mountain, West, United States',\n",
      "  '20152',\n",
      "  '04',\n",
      "  '012'],\n",
      " ['Maricopa County, Arizona, Mountain, West, United States',\n",
      "  '4167947',\n",
      "  '04',\n",
      "  '013'],\n",
      " ['Mohave County, Arizona, Mountain, West, United States',\n",
      "  '204737',\n",
      "  '04',\n",
      "  '015'],\n",
      " ['Navajo County, Arizona, Mountain, West, United States',\n",
      "  '108277',\n",
      "  '04',\n",
      "  '017'],\n",
      " ['Pima County, Arizona, Mountain, West, United States',\n",
      "  '1010025',\n",
      "  '04',\n",
      "  '019'],\n",
      " ['Pinal County, Arizona, Mountain, West, United States',\n",
      "  '406584',\n",
      "  '04',\n",
      "  '021'],\n",
      " ['Santa Cruz County, Arizona, Mountain, West, United States',\n",
      "  '46461',\n",
      "  '04',\n",
      "  '023'],\n",
      " ['Yavapai County, Arizona, Mountain, West, United States',\n",
      "  '222255',\n",
      "  '04',\n",
      "  '025'],\n",
      " ['Yuma County, Arizona, Mountain, West, United States', '204275', '04', '027']]\n"
     ]
    }
   ],
   "source": [
    "pop2015 = requests.get('https://api.census.gov/data/2015/pep/population?get=GEONAME,POP&for=county:*&in=state:04&key=1a6c599c07403e8371db55c899f4c88e14574e7b').json()\n",
    "\n",
    "pprint.pprint(pop2015)"
   ]
  },
  {
   "cell_type": "code",
   "execution_count": 10,
   "metadata": {},
   "outputs": [
    {
     "name": "stdout",
     "output_type": "stream",
     "text": [
      "[['STNAME', 'POP', 'CTYNAME', 'DATE_', 'state', 'county'],\n",
      " ['Arizona', '71828', 'Apache County', '7', '04', '001'],\n",
      " ['Arizona', '127448', 'Cochise County', '7', '04', '003'],\n",
      " ['Arizona', '137682', 'Coconino County', '7', '04', '005'],\n",
      " ['Arizona', '53119', 'Gila County', '7', '04', '007'],\n",
      " ['Arizona', '37957', 'Graham County', '7', '04', '009'],\n",
      " ['Arizona', '9346', 'Greenlee County', '7', '04', '011'],\n",
      " ['Arizona', '20231', 'La Paz County', '7', '04', '012'],\n",
      " ['Arizona', '4087191', 'Maricopa County', '7', '04', '013'],\n",
      " ['Arizona', '203361', 'Mohave County', '7', '04', '015'],\n",
      " ['Arizona', '108101', 'Navajo County', '7', '04', '017'],\n",
      " ['Arizona', '1004516', 'Pima County', '7', '04', '019'],\n",
      " ['Arizona', '401918', 'Pinal County', '7', '04', '021'],\n",
      " ['Arizona', '46695', 'Santa Cruz County', '7', '04', '023'],\n",
      " ['Arizona', '218844', 'Yavapai County', '7', '04', '025'],\n",
      " ['Arizona', '203247', 'Yuma County', '7', '04', '027']]\n"
     ]
    }
   ],
   "source": [
    "pop2014 = requests.get('https://api.census.gov/data/2014/pep/cty?get=STNAME,POP,CTYNAME&for=county:*&in=state:04&DATE_=7&key=1a6c599c07403e8371db55c899f4c88e14574e7b').json()\n",
    "\n",
    "pprint.pprint(pop2014)"
   ]
  },
  {
   "cell_type": "code",
   "execution_count": 12,
   "metadata": {},
   "outputs": [
    {
     "name": "stdout",
     "output_type": "stream",
     "text": [
      "[['STNAME', 'POP', 'CTYNAME', 'DATE_', 'state', 'county'],\n",
      " ['Arizona', '71934', 'Apache County', '6', '04', '001'],\n",
      " ['Arizona', '129473', 'Cochise County', '6', '04', '003'],\n",
      " ['Arizona', '136539', 'Coconino County', '6', '04', '005'],\n",
      " ['Arizona', '53053', 'Gila County', '6', '04', '007'],\n",
      " ['Arizona', '37482', 'Graham County', '6', '04', '009'],\n",
      " ['Arizona', '9049', 'Greenlee County', '6', '04', '011'],\n",
      " ['Arizona', '20324', 'La Paz County', '6', '04', '012'],\n",
      " ['Arizona', '4009412', 'Maricopa County', '6', '04', '013'],\n",
      " ['Arizona', '203030', 'Mohave County', '6', '04', '015'],\n",
      " ['Arizona', '107322', 'Navajo County', '6', '04', '017'],\n",
      " ['Arizona', '996554', 'Pima County', '6', '04', '019'],\n",
      " ['Arizona', '389350', 'Pinal County', '6', '04', '021'],\n",
      " ['Arizona', '46768', 'Santa Cruz County', '6', '04', '023'],\n",
      " ['Arizona', '215133', 'Yavapai County', '6', '04', '025'],\n",
      " ['Arizona', '201201', 'Yuma County', '6', '04', '027']]\n"
     ]
    }
   ],
   "source": [
    "pop2013 = requests.get('https://api.census.gov/data/2013/pep/cty?get=STNAME,POP,CTYNAME&for=county:*&in=state:04&DATE_=6&key=1a6c599c07403e8371db55c899f4c88e14574e7b').json()\n",
    "\n",
    "pprint.pprint(pop2013)"
   ]
  },
  {
   "cell_type": "code",
   "execution_count": 21,
   "metadata": {},
   "outputs": [
    {
     "name": "stdout",
     "output_type": "stream",
     "text": [
      "[['GEONAME', 'POP', 'DATE_', 'state', 'county'],\n",
      " ['Greenlee County, Arizona', '8539', '1', '04', '011'],\n",
      " ['La Paz County, Arizona', '19670', '1', '04', '012'],\n",
      " ['Maricopa County, Arizona', '3072415', '1', '04', '013'],\n",
      " ['Mohave County, Arizona', '154981', '1', '04', '015'],\n",
      " ['Navajo County, Arizona', '97452', '1', '04', '017'],\n",
      " ['Pima County, Arizona', '843702', '1', '04', '019'],\n",
      " ['Pinal County, Arizona', '179469', '1', '04', '021'],\n",
      " ['Santa Cruz County, Arizona', '38381', '1', '04', '023'],\n",
      " ['Yavapai County, Arizona', '167377', '1', '04', '025'],\n",
      " ['Yuma County, Arizona', '159995', '1', '04', '027'],\n",
      " ['Apache County, Arizona', '69430', '1', '04', '001'],\n",
      " ['Cochise County, Arizona', '117743', '1', '04', '003'],\n",
      " ['Coconino County, Arizona', '116320', '1', '04', '005'],\n",
      " ['Gila County, Arizona', '51298', '1', '04', '007'],\n",
      " ['Graham County, Arizona', '33475', '1', '04', '009']]\n"
     ]
    }
   ],
   "source": [
    "pop2000 = requests.get('https://api.census.gov/data/2000/pep/int_population?get=GEONAME,POP&for=county:*&in=state:04&DATE_=1&key=1a6c599c07403e8371db55c899f4c88e14574e7b').json()\n",
    "\n",
    "pprint.pprint(pop2000)"
   ]
  },
  {
   "cell_type": "code",
   "execution_count": null,
   "metadata": {},
   "outputs": [],
   "source": []
  },
  {
   "cell_type": "code",
   "execution_count": 23,
   "metadata": {},
   "outputs": [
    {
     "name": "stdout",
     "output_type": "stream",
     "text": [
      "[['B19001_001E', 'state', 'county'],\n",
      " ['147936', '04', '021'],\n",
      " ['100836', '04', '025'],\n",
      " ['34285', '04', '017'],\n",
      " ['49751', '04', '003'],\n",
      " ['47275', '04', '005'],\n",
      " ['74532', '04', '027'],\n",
      " ['1582464', '04', '013'],\n",
      " ['21936', '04', '001'],\n",
      " ['90270', '04', '015'],\n",
      " ['402323', '04', '019']]\n"
     ]
    }
   ],
   "source": [
    "income2018 = requests.get('https://api.census.gov/data/2018/acs/acs1?get=B19001_001E&for=county:*&in=state:04&key=1a6c599c07403e8371db55c899f4c88e14574e7b').json()\n",
    "\n",
    "pprint.pprint(income2018)"
   ]
  },
  {
   "cell_type": "code",
   "execution_count": null,
   "metadata": {},
   "outputs": [],
   "source": []
  },
  {
   "cell_type": "code",
   "execution_count": null,
   "metadata": {},
   "outputs": [],
   "source": []
  },
  {
   "cell_type": "code",
   "execution_count": null,
   "metadata": {},
   "outputs": [],
   "source": []
  }
 ],
 "metadata": {
  "file_extension": ".py",
  "kernelspec": {
   "display_name": "Python 3.7.3 64-bit ('base': conda)",
   "language": "python",
   "name": "python37364bitbasecondada9122073dff4835b3657704dcefca90"
  },
  "language_info": {
   "codemirror_mode": {
    "name": "ipython",
    "version": 3
   },
   "file_extension": ".py",
   "mimetype": "text/x-python",
   "name": "python",
   "nbconvert_exporter": "python",
   "pygments_lexer": "ipython3",
   "version": "3.7.3"
  },
  "mimetype": "text/x-python",
  "name": "python",
  "npconvert_exporter": "python",
  "pygments_lexer": "ipython3",
  "version": 3
 },
 "nbformat": 4,
 "nbformat_minor": 2
}
