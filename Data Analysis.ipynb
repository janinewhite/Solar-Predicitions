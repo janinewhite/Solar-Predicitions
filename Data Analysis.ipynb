{
 "cells": [
  {
   "cell_type": "code",
   "execution_count": 8,
   "metadata": {
    "ExecuteTime": {
     "end_time": "2020-02-10T04:13:07.992829Z",
     "start_time": "2020-02-10T04:13:07.557601Z"
    }
   },
   "outputs": [],
   "source": [
    "%matplotlib inline\n",
    "import numpy as np\n",
    "import pandas as pd\n",
    "import matplotlib.pyplot as plt\n",
    "import databaseconfig as cfg\n",
    "import sqlalchemy as db\n",
    "import psycopg2\n",
    "from sklearn.datasets import make_regression\n",
    "from sklearn.linear_model import LinearRegression"
   ]
  },
  {
   "cell_type": "code",
   "execution_count": 2,
   "metadata": {
    "ExecuteTime": {
     "end_time": "2020-02-10T03:03:42.003364Z",
     "start_time": "2020-02-10T03:03:40.173152Z"
    }
   },
   "outputs": [],
   "source": [
    "# Connect to database\n",
    "engine = db.create_engine(f\"postgresql+psycopg2://{cfg.user}:{cfg.password}@{cfg.host}:{cfg.port}/{cfg.database}\")\n",
    "metadata = db.MetaData()\n",
    "connection = engine.connect()"
   ]
  },
  {
   "cell_type": "code",
   "execution_count": 6,
   "metadata": {
    "ExecuteTime": {
     "end_time": "2020-02-10T03:43:59.980885Z",
     "start_time": "2020-02-10T03:43:42.281618Z"
    }
   },
   "outputs": [],
   "source": [
    "# Read data\n",
    "installations = db.Table('combined_data',metadata,autoload=True,autoload_with=engine)\n",
    "installation_results = connection.execute(db.select([installations])).fetchall()\n",
    "installations_df= pd.DataFrame(installation_results)\n",
    "installations_df.columns = installation_results[0].keys()\n",
    "installations_df=installations_df.sort_values('installation_date')"
   ]
  },
  {
   "cell_type": "code",
   "execution_count": 10,
   "metadata": {
    "ExecuteTime": {
     "end_time": "2020-02-10T04:14:45.591327Z",
     "start_time": "2020-02-10T04:14:45.526369Z"
    }
   },
   "outputs": [
    {
     "name": "stdout",
     "output_type": "stream",
     "text": [
      "139002\n"
     ]
    },
    {
     "data": {
      "text/html": [
       "<div>\n",
       "<style scoped>\n",
       "    .dataframe tbody tr th:only-of-type {\n",
       "        vertical-align: middle;\n",
       "    }\n",
       "\n",
       "    .dataframe tbody tr th {\n",
       "        vertical-align: top;\n",
       "    }\n",
       "\n",
       "    .dataframe thead th {\n",
       "        text-align: right;\n",
       "    }\n",
       "</style>\n",
       "<table border=\"1\" class=\"dataframe\">\n",
       "  <thead>\n",
       "    <tr style=\"text-align: right;\">\n",
       "      <th></th>\n",
       "      <th>system_id</th>\n",
       "      <th>data_provider</th>\n",
       "      <th>provider</th>\n",
       "      <th>installation_date</th>\n",
       "      <th>install_yr</th>\n",
       "      <th>system_size</th>\n",
       "      <th>system_inverter_capacity</th>\n",
       "      <th>total_installed_price</th>\n",
       "      <th>appraised_value_flag</th>\n",
       "      <th>rebate_or_grant</th>\n",
       "      <th>...</th>\n",
       "      <th>module_model_4</th>\n",
       "      <th>bipv_module</th>\n",
       "      <th>inverter_manufacturer</th>\n",
       "      <th>inverter_mfg</th>\n",
       "      <th>inverter_country</th>\n",
       "      <th>inverter_region</th>\n",
       "      <th>inverter_model_1</th>\n",
       "      <th>inverter_loading_ratio</th>\n",
       "      <th>microinverter_1</th>\n",
       "      <th>dc_optimizer</th>\n",
       "    </tr>\n",
       "  </thead>\n",
       "  <tbody>\n",
       "    <tr>\n",
       "      <th>120591</th>\n",
       "      <td>AZ_rTd8MUXNdj</td>\n",
       "      <td>1</td>\n",
       "      <td>Arizona Public Service</td>\n",
       "      <td>1998-04-01</td>\n",
       "      <td>1998.0</td>\n",
       "      <td>110.30</td>\n",
       "      <td>NaN</td>\n",
       "      <td>NaN</td>\n",
       "      <td>0</td>\n",
       "      <td>NaN</td>\n",
       "      <td>...</td>\n",
       "      <td>NaN</td>\n",
       "      <td>NaN</td>\n",
       "      <td>NaN</td>\n",
       "      <td>None</td>\n",
       "      <td>None</td>\n",
       "      <td>None</td>\n",
       "      <td>None</td>\n",
       "      <td>NaN</td>\n",
       "      <td>NaN</td>\n",
       "      <td>0</td>\n",
       "    </tr>\n",
       "    <tr>\n",
       "      <th>28048</th>\n",
       "      <td>AZ_zL1ZsoLdc1</td>\n",
       "      <td>1</td>\n",
       "      <td>Arizona Public Service</td>\n",
       "      <td>1999-06-01</td>\n",
       "      <td>1999.0</td>\n",
       "      <td>24.70</td>\n",
       "      <td>NaN</td>\n",
       "      <td>NaN</td>\n",
       "      <td>0</td>\n",
       "      <td>NaN</td>\n",
       "      <td>...</td>\n",
       "      <td>NaN</td>\n",
       "      <td>NaN</td>\n",
       "      <td>NaN</td>\n",
       "      <td>None</td>\n",
       "      <td>None</td>\n",
       "      <td>None</td>\n",
       "      <td>None</td>\n",
       "      <td>NaN</td>\n",
       "      <td>NaN</td>\n",
       "      <td>0</td>\n",
       "    </tr>\n",
       "    <tr>\n",
       "      <th>95851</th>\n",
       "      <td>AZ_37qZr8MKLC</td>\n",
       "      <td>10</td>\n",
       "      <td>Tucson Electric Power</td>\n",
       "      <td>1999-09-09</td>\n",
       "      <td>1999.0</td>\n",
       "      <td>5.20</td>\n",
       "      <td>NaN</td>\n",
       "      <td>25000.0</td>\n",
       "      <td>0</td>\n",
       "      <td>NaN</td>\n",
       "      <td>...</td>\n",
       "      <td>NaN</td>\n",
       "      <td>NaN</td>\n",
       "      <td>NaN</td>\n",
       "      <td>None</td>\n",
       "      <td>None</td>\n",
       "      <td>None</td>\n",
       "      <td>None</td>\n",
       "      <td>NaN</td>\n",
       "      <td>NaN</td>\n",
       "      <td>0</td>\n",
       "    </tr>\n",
       "    <tr>\n",
       "      <th>98784</th>\n",
       "      <td>AZ_8kXakccpQz</td>\n",
       "      <td>10</td>\n",
       "      <td>Tucson Electric Power</td>\n",
       "      <td>1999-09-09</td>\n",
       "      <td>1999.0</td>\n",
       "      <td>1.45</td>\n",
       "      <td>NaN</td>\n",
       "      <td>6095.0</td>\n",
       "      <td>0</td>\n",
       "      <td>NaN</td>\n",
       "      <td>...</td>\n",
       "      <td>NaN</td>\n",
       "      <td>NaN</td>\n",
       "      <td>NaN</td>\n",
       "      <td>None</td>\n",
       "      <td>None</td>\n",
       "      <td>None</td>\n",
       "      <td>None</td>\n",
       "      <td>NaN</td>\n",
       "      <td>NaN</td>\n",
       "      <td>0</td>\n",
       "    </tr>\n",
       "    <tr>\n",
       "      <th>104227</th>\n",
       "      <td>AZ_dZ0CK8ChgY</td>\n",
       "      <td>10</td>\n",
       "      <td>Tucson Electric Power</td>\n",
       "      <td>1999-09-09</td>\n",
       "      <td>1999.0</td>\n",
       "      <td>2.55</td>\n",
       "      <td>NaN</td>\n",
       "      <td>11220.0</td>\n",
       "      <td>1</td>\n",
       "      <td>NaN</td>\n",
       "      <td>...</td>\n",
       "      <td>NaN</td>\n",
       "      <td>NaN</td>\n",
       "      <td>NaN</td>\n",
       "      <td>None</td>\n",
       "      <td>None</td>\n",
       "      <td>None</td>\n",
       "      <td>None</td>\n",
       "      <td>NaN</td>\n",
       "      <td>NaN</td>\n",
       "      <td>0</td>\n",
       "    </tr>\n",
       "  </tbody>\n",
       "</table>\n",
       "<p>5 rows × 56 columns</p>\n",
       "</div>"
      ],
      "text/plain": [
       "            system_id  data_provider                provider  \\\n",
       "120591  AZ_rTd8MUXNdj              1  Arizona Public Service   \n",
       "28048   AZ_zL1ZsoLdc1              1  Arizona Public Service   \n",
       "95851   AZ_37qZr8MKLC             10   Tucson Electric Power   \n",
       "98784   AZ_8kXakccpQz             10   Tucson Electric Power   \n",
       "104227  AZ_dZ0CK8ChgY             10   Tucson Electric Power   \n",
       "\n",
       "       installation_date  install_yr  system_size  system_inverter_capacity  \\\n",
       "120591        1998-04-01      1998.0       110.30                       NaN   \n",
       "28048         1999-06-01      1999.0        24.70                       NaN   \n",
       "95851         1999-09-09      1999.0         5.20                       NaN   \n",
       "98784         1999-09-09      1999.0         1.45                       NaN   \n",
       "104227        1999-09-09      1999.0         2.55                       NaN   \n",
       "\n",
       "        total_installed_price  appraised_value_flag  rebate_or_grant  ...  \\\n",
       "120591                    NaN                     0              NaN  ...   \n",
       "28048                     NaN                     0              NaN  ...   \n",
       "95851                 25000.0                     0              NaN  ...   \n",
       "98784                  6095.0                     0              NaN  ...   \n",
       "104227                11220.0                     1              NaN  ...   \n",
       "\n",
       "        module_model_4  bipv_module inverter_manufacturer  inverter_mfg  \\\n",
       "120591             NaN          NaN                   NaN          None   \n",
       "28048              NaN          NaN                   NaN          None   \n",
       "95851              NaN          NaN                   NaN          None   \n",
       "98784              NaN          NaN                   NaN          None   \n",
       "104227             NaN          NaN                   NaN          None   \n",
       "\n",
       "       inverter_country  inverter_region  inverter_model_1  \\\n",
       "120591             None             None              None   \n",
       "28048              None             None              None   \n",
       "95851              None             None              None   \n",
       "98784              None             None              None   \n",
       "104227             None             None              None   \n",
       "\n",
       "        inverter_loading_ratio  microinverter_1 dc_optimizer  \n",
       "120591                     NaN              NaN            0  \n",
       "28048                      NaN              NaN            0  \n",
       "95851                      NaN              NaN            0  \n",
       "98784                      NaN              NaN            0  \n",
       "104227                     NaN              NaN            0  \n",
       "\n",
       "[5 rows x 56 columns]"
      ]
     },
     "execution_count": 10,
     "metadata": {},
     "output_type": "execute_result"
    }
   ],
   "source": [
    "n_samples = len(installations_df)\n",
    "print(n_samples)\n",
    "installations_df.head()"
   ]
  },
  {
   "cell_type": "code",
   "execution_count": null,
   "metadata": {},
   "outputs": [],
   "source": [
    "y = "
   ]
  }
 ],
 "metadata": {
  "kernelspec": {
   "display_name": "Python 3",
   "language": "python",
   "name": "python3"
  },
  "language_info": {
   "codemirror_mode": {
    "name": "ipython",
    "version": 3
   },
   "file_extension": ".py",
   "mimetype": "text/x-python",
   "name": "python",
   "nbconvert_exporter": "python",
   "pygments_lexer": "ipython3",
   "version": "3.7.3"
  },
  "varInspector": {
   "cols": {
    "lenName": 16,
    "lenType": 16,
    "lenVar": 40
   },
   "kernels_config": {
    "python": {
     "delete_cmd_postfix": "",
     "delete_cmd_prefix": "del ",
     "library": "var_list.py",
     "varRefreshCmd": "print(var_dic_list())"
    },
    "r": {
     "delete_cmd_postfix": ") ",
     "delete_cmd_prefix": "rm(",
     "library": "var_list.r",
     "varRefreshCmd": "cat(var_dic_list()) "
    }
   },
   "types_to_exclude": [
    "module",
    "function",
    "builtin_function_or_method",
    "instance",
    "_Feature"
   ],
   "window_display": false
  }
 },
 "nbformat": 4,
 "nbformat_minor": 2
}
