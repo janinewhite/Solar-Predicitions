{
 "cells": [
  {
   "cell_type": "code",
   "execution_count": 4,
   "metadata": {},
   "outputs": [],
   "source": [
    "# Dependencies and Setup\n",
    "import pandas as pd"
   ]
  },
  {
   "cell_type": "code",
   "execution_count": 7,
   "metadata": {},
   "outputs": [
    {
     "name": "stdout",
     "output_type": "stream",
     "text": [
      "        Location  Average Temp  Latitude  Longitude\n",
      "0   Three Points         57.72     32.08    -111.31\n",
      "1    Avra Valley         57.74     32.44    -111.32\n",
      "2  Picture Rocks         57.72     32.35    -111.25\n",
      "3          Sells         59.05     31.91    -111.88\n",
      "4    Pima County         60.01     32.00    -112.00\n"
     ]
    }
   ],
   "source": [
    "# Read in csv data\n",
    "df_flagstaff = pd.read_csv(r'C:\\Users\\jhonp\\Desktop\\Solar-Predictions\\data\\Weather\\flagstaff.csv')\n",
    "\n",
    "# Drop unnecessary columns\n",
    "df_flagstaff = df_flagstaff.drop('id', 1)\n",
    "df_flagstaff = df_flagstaff.drop('main/feels_like', 1)\n",
    "df_flagstaff = df_flagstaff.drop('main/temp_min', 1)\n",
    "df_flagstaff = df_flagstaff.drop('main/temp_max', 1)\n",
    "df_flagstaff = df_flagstaff.drop('main/pressure', 1)\n",
    "df_flagstaff = df_flagstaff.drop('main/humidity', 1)\n",
    "df_flagstaff = df_flagstaff.drop('wind/speed', 1)\n",
    "df_flagstaff = df_flagstaff.drop('wind/deg', 1)\n",
    "df_flagstaff = df_flagstaff.drop('sys/country', 1)\n",
    "df_flagstaff = df_flagstaff.drop('rain', 1)\n",
    "df_flagstaff = df_flagstaff.drop('snow', 1)\n",
    "df_flagstaff = df_flagstaff.drop('clouds/all', 1)\n",
    "df_flagstaff = df_flagstaff.drop('weather/0/id', 1)\n",
    "df_flagstaff = df_flagstaff.drop('weather/0/main', 1)\n",
    "df_flagstaff = df_flagstaff.drop('weather/0/description', 1)\n",
    "df_flagstaff = df_flagstaff.drop('weather/0/icon', 1)\n",
    "df_flagstaff = df_flagstaff.drop('dt', 1)\n",
    "\n",
    "# Reorder columns\n",
    "columns_flagstaff = ['name','main/temp', 'coord/lat', 'coord/lon']\n",
    "df_flagstaff = df_flagstaff[columns_flagstaff]\n",
    "\n",
    "# Rename columns\n",
    "df_flagstaff.rename(columns = {'name':'Location',\n",
    "                             'main/temp' : 'Average Temp',\n",
    "                             'coord/lat' : 'Latitude',\n",
    "                             'coord/lon' : 'Longitude'},\n",
    "                             inplace = True)\n",
    "\n",
    "print(df_flagstaff.head())"
   ]
  },
  {
   "cell_type": "code",
   "execution_count": 6,
   "metadata": {},
   "outputs": [
    {
     "name": "stdout",
     "output_type": "stream",
     "text": [
      "             Location  Average Temp  Latitude  Longitude\n",
      "0        South Tucson         57.61     32.20    -110.97\n",
      "1              Tucson         57.61     32.22    -110.93\n",
      "2       Flowing Wells         57.63     32.29    -111.01\n",
      "3  Catalina Foothills         57.65     32.30    -110.92\n",
      "4      Drexel Heights         57.70     32.14    -111.03\n"
     ]
    }
   ],
   "source": [
    "# Read in csv data\n",
    "df_tucson = pd.read_csv(r'C:\\Users\\jhonp\\Desktop\\Solar-Predictions\\data\\Weather\\tucson.csv')\n",
    "\n",
    "# Drop unnecessary columns\n",
    "df_tucson = df_tucson.drop('id', 1)\n",
    "df_tucson = df_tucson.drop('main/feels_like', 1)\n",
    "df_tucson = df_tucson.drop('main/temp_min', 1)\n",
    "df_tucson = df_tucson.drop('main/temp_max', 1)\n",
    "df_tucson = df_tucson.drop('main/pressure', 1)\n",
    "df_tucson = df_tucson.drop('main/humidity', 1)\n",
    "df_tucson = df_tucson.drop('wind/speed', 1)\n",
    "df_tucson = df_tucson.drop('wind/deg', 1)\n",
    "df_tucson = df_tucson.drop('sys/country', 1)\n",
    "df_tucson = df_tucson.drop('rain', 1)\n",
    "df_tucson = df_tucson.drop('snow', 1)\n",
    "df_tucson = df_tucson.drop('clouds/all', 1)\n",
    "df_tucson = df_tucson.drop('weather/0/id', 1)\n",
    "df_tucson = df_tucson.drop('weather/0/main', 1)\n",
    "df_tucson = df_tucson.drop('weather/0/description', 1)\n",
    "df_tucson = df_tucson.drop('weather/0/icon', 1)\n",
    "df_tucson = df_tucson.drop('dt', 1)\n",
    "\n",
    "# Reorder columns\n",
    "columns_tucson = ['name','main/temp', 'coord/lat', 'coord/lon']\n",
    "df_tucson = df_tucson[columns_tucson]\n",
    "\n",
    "# Rename columns\n",
    "df_tucson.rename(columns = {'name':'Location',\n",
    "                             'main/temp' : 'Average Temp',\n",
    "                             'coord/lat' : 'Latitude',\n",
    "                             'coord/lon' : 'Longitude'},\n",
    "                             inplace = True)\n",
    "\n",
    "print(df_tucson.head())"
   ]
  },
  {
   "cell_type": "code",
   "execution_count": 8,
   "metadata": {},
   "outputs": [
    {
     "name": "stdout",
     "output_type": "stream",
     "text": [
      "          Location  Average Temp  Latitude  Longitude\n",
      "0          Phoenix         57.00     33.45    -112.07\n",
      "1   Tempe Junction         57.06     33.41    -111.94\n",
      "2        Guadalupe         57.06     33.37    -111.96\n",
      "3         Glendale         56.89     33.54    -112.19\n",
      "4  Paradise Valley         57.11     33.53    -111.94\n"
     ]
    }
   ],
   "source": [
    "# Read in csv data\n",
    "df_phoenix = pd.read_csv(r'C:\\Users\\jhonp\\Desktop\\Solar-Predictions\\data\\Weather\\phoenix.csv')\n",
    "\n",
    "# Drop unnecessary columns\n",
    "df_phoenix = df_phoenix.drop('id', 1)\n",
    "df_phoenix = df_phoenix.drop('main/feels_like', 1)\n",
    "df_phoenix = df_phoenix.drop('main/temp_min', 1)\n",
    "df_phoenix = df_phoenix.drop('main/temp_max', 1)\n",
    "df_phoenix = df_phoenix.drop('main/pressure', 1)\n",
    "df_phoenix = df_phoenix.drop('main/humidity', 1)\n",
    "df_phoenix = df_phoenix.drop('wind/speed', 1)\n",
    "df_phoenix = df_phoenix.drop('wind/deg', 1)\n",
    "df_phoenix = df_phoenix.drop('sys/country', 1)\n",
    "df_phoenix = df_phoenix.drop('rain', 1)\n",
    "df_phoenix = df_phoenix.drop('snow', 1)\n",
    "df_phoenix = df_phoenix.drop('clouds/all', 1)\n",
    "df_phoenix = df_phoenix.drop('weather/0/id', 1)\n",
    "df_phoenix = df_phoenix.drop('weather/0/main', 1)\n",
    "df_phoenix = df_phoenix.drop('weather/0/description', 1)\n",
    "df_phoenix = df_phoenix.drop('weather/0/icon', 1)\n",
    "df_phoenix = df_phoenix.drop('dt', 1)\n",
    "\n",
    "# Reorder columns\n",
    "columns_phoenix = ['name','main/temp', 'coord/lat', 'coord/lon']\n",
    "df_phoenix = df_phoenix[columns_phoenix]\n",
    "\n",
    "# Rename columns\n",
    "df_phoenix.rename(columns = {'name':'Location',\n",
    "                             'main/temp' : 'Average Temp',\n",
    "                             'coord/lat' : 'Latitude',\n",
    "                             'coord/lon' : 'Longitude'},\n",
    "                             inplace = True)\n",
    "\n",
    "print(df_phoenix.head())"
   ]
  },
  {
   "cell_type": "code",
   "execution_count": null,
   "metadata": {},
   "outputs": [],
   "source": [
    "# dfs_to_merge = [df_2018, df_2017, df_2016, df_2015, df_2014, df_2013]\n",
    "# income_df = pd.concat(dfs_to_merge, sort=True)\n",
    "# print(income_df.head())"
   ]
  },
  {
   "cell_type": "code",
   "execution_count": null,
   "metadata": {},
   "outputs": [],
   "source": [
    "# income_df.to_csv(r'Income.csv')"
   ]
  }
 ],
 "metadata": {
  "file_extension": ".py",
  "kernelspec": {
   "display_name": "Python 3",
   "language": "python",
   "name": "python3"
  },
  "language_info": {
   "codemirror_mode": {
    "name": "ipython",
    "version": 3
   },
   "file_extension": ".py",
   "mimetype": "text/x-python",
   "name": "python",
   "nbconvert_exporter": "python",
   "pygments_lexer": "ipython3",
   "version": "3.7.4"
  },
  "mimetype": "text/x-python",
  "name": "python",
  "npconvert_exporter": "python",
  "pygments_lexer": "ipython3",
  "version": 3
 },
 "nbformat": 4,
 "nbformat_minor": 2
}
